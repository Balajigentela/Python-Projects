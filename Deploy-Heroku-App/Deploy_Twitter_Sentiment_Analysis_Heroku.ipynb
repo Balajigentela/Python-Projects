{
 "cells": [
  {
   "cell_type": "markdown",
   "metadata": {},
   "source": [
    "### Import Libraries"
   ]
  },
  {
   "cell_type": "code",
   "execution_count": 1,
   "metadata": {},
   "outputs": [],
   "source": [
    "# importing required libraries\n",
    "import pandas as pd\n",
    "import matplotlib.pyplot as plt\n",
    "from sklearn.pipeline import Pipeline\n",
    "# import joblib\n",
    "from joblib import dump\n",
    "# import joblib\n",
    "from joblib import load\n",
    "\n",
    "from wordcloud import WordCloud\n",
    "import re\n",
    "from nltk.corpus import stopwords\n",
    "# To sort dictionary values\n",
    "import operator \n",
    "## Preprocessing\n",
    "import pandas as pd\n",
    "pd.set_option('display.max_colwidth', -1)\n",
    "import os\n"
   ]
  },
  {
   "cell_type": "markdown",
   "metadata": {},
   "source": [
    "### Connect to Twitter"
   ]
  },
  {
   "cell_type": "code",
   "execution_count": 2,
   "metadata": {},
   "outputs": [],
   "source": [
    "import tweepy\n",
    "import config\n",
    "    \n",
    "# initialize api instance\\n\n",
    "consumer_key= config.consumer_key\n",
    "consumer_secret= config.consumer_secret\n",
    "access_token=config.access_token\n",
    "access_token_secret =config.access_token_secret\n",
    "\n",
    "#Connect to Twitter through the API\n",
    "auth = tweepy.OAuthHandler(consumer_key, consumer_secret)\n",
    "auth.set_access_token(access_token, access_token_secret) \n",
    "api = tweepy.API(auth,wait_on_rate_limit=True) \n"
   ]
  },
  {
   "cell_type": "markdown",
   "metadata": {},
   "source": [
    "### Get Twitter Trends"
   ]
  },
  {
   "cell_type": "code",
   "execution_count": 3,
   "metadata": {},
   "outputs": [],
   "source": [
    "def get_trends_by_location(loc_id,count):\n",
    "    '''Get Trending Tweets by Location'''\n",
    "    import iso639\n",
    "    import numpy as np\n",
    "    from langdetect import detect\n",
    "    df = pd.DataFrame([])\n",
    "    try:\n",
    "        trends = api.trends_place(loc_id)\n",
    "        df = pd.DataFrame([trending['name'],  trending['tweet_volume'], iso639.to_name(detect(trending['name']))] for trending in trends[0]['trends'])\n",
    "        df.columns = ['Trends','Volume','Language']\n",
    "        #df = df.sort_values('Volume', ascending = False)\n",
    "        return(df[:count])\n",
    "    except Exception as e:\n",
    "        pass\n",
    "        print(\"An exception occurred: \",e)\n",
    "        df = pd.DataFrame([trending['name'],  trending['tweet_volume'], np.nan] for trending in trends[0]['trends'])\n",
    "        df.columns = ['Trends','Volume','Language']\n",
    "        return(df[:count])\n",
    "    "
   ]
  },
  {
   "cell_type": "markdown",
   "metadata": {},
   "source": [
    "### Get Worldwide Twitter Trends"
   ]
  },
  {
   "cell_type": "code",
   "execution_count": 4,
   "metadata": {},
   "outputs": [
    {
     "data": {
      "text/html": [
       "<div>\n",
       "<style scoped>\n",
       "    .dataframe tbody tr th:only-of-type {\n",
       "        vertical-align: middle;\n",
       "    }\n",
       "\n",
       "    .dataframe tbody tr th {\n",
       "        vertical-align: top;\n",
       "    }\n",
       "\n",
       "    .dataframe thead th {\n",
       "        text-align: right;\n",
       "    }\n",
       "</style>\n",
       "<table border=\"1\" class=\"dataframe\">\n",
       "  <thead>\n",
       "    <tr style=\"text-align: right;\">\n",
       "      <th></th>\n",
       "      <th>Trends</th>\n",
       "      <th>Volume</th>\n",
       "      <th>Language</th>\n",
       "    </tr>\n",
       "  </thead>\n",
       "  <tbody>\n",
       "    <tr>\n",
       "      <th>0</th>\n",
       "      <td>#KAI_1stSOLO</td>\n",
       "      <td>309128.0</td>\n",
       "      <td>Danish</td>\n",
       "    </tr>\n",
       "    <tr>\n",
       "      <th>1</th>\n",
       "      <td>#BETracklist</td>\n",
       "      <td>42719.0</td>\n",
       "      <td>German</td>\n",
       "    </tr>\n",
       "  </tbody>\n",
       "</table>\n",
       "</div>"
      ],
      "text/plain": [
       "         Trends    Volume Language\n",
       "0  #KAI_1stSOLO  309128.0  Danish \n",
       "1  #BETracklist  42719.0   German "
      ]
     },
     "execution_count": 4,
     "metadata": {},
     "output_type": "execute_result"
    }
   ],
   "source": [
    "df_world_trends = get_trends_by_location(1, 20)\n",
    "df_world_trends.head(2)"
   ]
  },
  {
   "cell_type": "markdown",
   "metadata": {},
   "source": [
    "### Get Translated Tweets"
   ]
  },
  {
   "cell_type": "code",
   "execution_count": 5,
   "metadata": {},
   "outputs": [],
   "source": [
    "def get_translation(text):\n",
    "    ''' Translate Tweets in English'''\n",
    "    from googletrans import Translator  # Import Translator module from googletrans package\n",
    "    try:\n",
    "        translator = Translator() # Create object of Translator.\n",
    "        translated = translator.translate(text,dest='en')\n",
    "        return(translated.text)\n",
    "    except Exception as e:\n",
    "        print(\"Exception\", e)\n",
    "        return 'NA'"
   ]
  },
  {
   "cell_type": "code",
   "execution_count": 6,
   "metadata": {},
   "outputs": [
    {
     "name": "stdout",
     "output_type": "stream",
     "text": [
      "Exception 'NoneType' object has no attribute 'group'\n",
      "Exception 'NoneType' object has no attribute 'group'\n",
      "Exception 'NoneType' object has no attribute 'group'\n",
      "Exception 'NoneType' object has no attribute 'group'\n",
      "Exception 'NoneType' object has no attribute 'group'\n",
      "Exception 'NoneType' object has no attribute 'group'\n",
      "Exception 'NoneType' object has no attribute 'group'\n",
      "Exception 'NoneType' object has no attribute 'group'\n",
      "Exception 'NoneType' object has no attribute 'group'\n",
      "Exception 'NoneType' object has no attribute 'group'\n",
      "Exception 'NoneType' object has no attribute 'group'\n"
     ]
    },
    {
     "data": {
      "text/html": [
       "<div>\n",
       "<style scoped>\n",
       "    .dataframe tbody tr th:only-of-type {\n",
       "        vertical-align: middle;\n",
       "    }\n",
       "\n",
       "    .dataframe tbody tr th {\n",
       "        vertical-align: top;\n",
       "    }\n",
       "\n",
       "    .dataframe thead th {\n",
       "        text-align: right;\n",
       "    }\n",
       "</style>\n",
       "<table border=\"1\" class=\"dataframe\">\n",
       "  <thead>\n",
       "    <tr style=\"text-align: right;\">\n",
       "      <th></th>\n",
       "      <th>Trends</th>\n",
       "      <th>Language</th>\n",
       "      <th>Translated_Trends</th>\n",
       "    </tr>\n",
       "  </thead>\n",
       "  <tbody>\n",
       "    <tr>\n",
       "      <th>0</th>\n",
       "      <td>#KAI_1stSOLO</td>\n",
       "      <td>Danish</td>\n",
       "      <td># KAI_1stSOLO</td>\n",
       "    </tr>\n",
       "    <tr>\n",
       "      <th>1</th>\n",
       "      <td>#BETracklist</td>\n",
       "      <td>German</td>\n",
       "      <td>NA</td>\n",
       "    </tr>\n",
       "    <tr>\n",
       "      <th>2</th>\n",
       "      <td>#IPLfinal</td>\n",
       "      <td>Italian</td>\n",
       "      <td>#IPLfinal</td>\n",
       "    </tr>\n",
       "    <tr>\n",
       "      <th>3</th>\n",
       "      <td>ポッキーの日</td>\n",
       "      <td>Japanese</td>\n",
       "      <td>Pocky Day</td>\n",
       "    </tr>\n",
       "    <tr>\n",
       "      <th>4</th>\n",
       "      <td>#20DaysBreathOfIGOT7</td>\n",
       "      <td>English</td>\n",
       "      <td>NA</td>\n",
       "    </tr>\n",
       "  </tbody>\n",
       "</table>\n",
       "</div>"
      ],
      "text/plain": [
       "                 Trends  Language Translated_Trends\n",
       "0  #KAI_1stSOLO          Danish    # KAI_1stSOLO   \n",
       "1  #BETracklist          German    NA              \n",
       "2  #IPLfinal             Italian   #IPLfinal       \n",
       "3  ポッキーの日                Japanese  Pocky Day       \n",
       "4  #20DaysBreathOfIGOT7  English   NA              "
      ]
     },
     "execution_count": 6,
     "metadata": {},
     "output_type": "execute_result"
    }
   ],
   "source": [
    "df_world_trends[\"Translated_Trends\"] = [get_translation(val) for val in df_world_trends.Trends]\n",
    "df_world_trends[[\"Trends\",\"Language\",\"Translated_Trends\"]].head()"
   ]
  },
  {
   "cell_type": "markdown",
   "metadata": {},
   "source": [
    "### Get Tweets for a Hashtag"
   ]
  },
  {
   "cell_type": "code",
   "execution_count": 7,
   "metadata": {},
   "outputs": [],
   "source": [
    "def get_related_tweets(search_keyword):\n",
    "    ''' collect tweets '''\n",
    "    try: \n",
    "        count = 50\n",
    "        # Create Blank Dataframe\\n\",\n",
    "        df_tweets = pd.DataFrame(pd.np.empty((0, 1)))\n",
    "        for keyword in search_keyword:\n",
    "            # Remove Retweets\n",
    "            search_tag = keyword +  \"-filter:retweets\" +  \"-filter:media\"\n",
    "            \n",
    "            print('Searching tweets for: ', search_tag)\n",
    "    \n",
    "            fetched_tweets = tweepy.Cursor(api.search,\n",
    "                                q=search_tag,\n",
    "                                lang=\"en\").items(50)\n",
    "            # Add records to the dataframe\n",
    "            df_tweets = df_tweets.append([[tweet.text] for tweet in fetched_tweets])\n",
    "            # Add columns\n",
    "            df_tweets.columns = ['tweets']\n",
    "            #clean emojis and pictures from tweets\n",
    "            df_tweets['tweets'] = df_tweets['tweets'].str.replace(r'[^\\x00-\\x7F]+', '', regex=True)\n",
    "            # Retuen Data\n",
    "            return(df_tweets)\n",
    "    except Exception as e:\n",
    "        print('Encountered Exception:', e)\n",
    "        return None"
   ]
  },
  {
   "cell_type": "markdown",
   "metadata": {},
   "source": [
    "### Predict Emotion behind tweets"
   ]
  },
  {
   "cell_type": "code",
   "execution_count": 8,
   "metadata": {},
   "outputs": [],
   "source": [
    "def predict_emotion(tweets):\n",
    "    '''Predict Emotions behind tweets'''\n",
    "    from sklearn.pipeline import Pipeline\n",
    "    # import joblib\n",
    "    from joblib import load\n",
    "    try:\n",
    "        # load the saved pipleine model\n",
    "        pipeline = load(\"text_classification.joblib\")\n",
    "        # get the prediction\n",
    "        tweets['Prediction'] = pipeline.predict(tweets['tweets'])\n",
    "        return tweets\n",
    "    except Exception as e:\n",
    "        print(\"Exception in predict_emotion: \", e)"
   ]
  },
  {
   "cell_type": "markdown",
   "metadata": {},
   "source": [
    "### Clean the Tweets"
   ]
  },
  {
   "cell_type": "code",
   "execution_count": 9,
   "metadata": {},
   "outputs": [],
   "source": [
    "def data_cleaning(df_tweets):\n",
    "    '''Clean the Tweets'''\n",
    "    # convert to lower case\n",
    "    df_tweets['clean_text'] = df_tweets['tweets'].str.lower()\n",
    "    # Remove punctuations\n",
    "    df_tweets['clean_text'] = df_tweets['clean_text'].str.replace('[^\\w\\s]',' ')\n",
    "    # Remove spaces in between words\n",
    "    df_tweets['clean_text'] = df_tweets['clean_text'].str.replace(' +', ' ')\n",
    "    # Remove Numbers\n",
    "    df_tweets['clean_text'] = df_tweets['clean_text'].str.replace('\\d+', '')\n",
    "    # Remove trailing spaces\n",
    "    df_tweets['clean_text'] = df_tweets['clean_text'].str.strip()\n",
    "    # Remove URLS\n",
    "    df_tweets['clean_text'] = df_tweets['clean_text'].apply(lambda x: re.split('https:\\/\\/.*', str(x))[0])\n",
    "    # remove stop words\n",
    "    stop = stopwords.words('english')\n",
    "    stop.extend([\"amp\",\"https\",\"co\",\"rt\",\"new\",\"let\",\"also\",\"still\",\"one\",\"people\",\"gt\"])\n",
    "    df_tweets['clean_text'] =  df_tweets['clean_text'].apply(lambda x: \" \".join(x for x in x.split() if x not in stop ))\n",
    "\n",
    "    # Remove Text Column\n",
    "    del df_tweets['tweets']\n",
    "    # Rename the clean_text column as tweets\n",
    "    df_tweets.rename(columns = {'clean_text':'Tweets'}, inplace = True) \n",
    "    return(df_tweets)"
   ]
  },
  {
   "cell_type": "markdown",
   "metadata": {},
   "source": [
    "### Test the function for a hashtag"
   ]
  },
  {
   "cell_type": "code",
   "execution_count": 10,
   "metadata": {},
   "outputs": [
    {
     "name": "stdout",
     "output_type": "stream",
     "text": [
      "Searching tweets for:  K-filter:retweets-filter:media\n"
     ]
    },
    {
     "data": {
      "text/html": [
       "<div>\n",
       "<style scoped>\n",
       "    .dataframe tbody tr th:only-of-type {\n",
       "        vertical-align: middle;\n",
       "    }\n",
       "\n",
       "    .dataframe tbody tr th {\n",
       "        vertical-align: top;\n",
       "    }\n",
       "\n",
       "    .dataframe thead th {\n",
       "        text-align: right;\n",
       "    }\n",
       "</style>\n",
       "<table border=\"1\" class=\"dataframe\">\n",
       "  <thead>\n",
       "    <tr style=\"text-align: right;\">\n",
       "      <th></th>\n",
       "      <th>Prediction</th>\n",
       "      <th>Tweets</th>\n",
       "    </tr>\n",
       "  </thead>\n",
       "  <tbody>\n",
       "    <tr>\n",
       "      <th>0</th>\n",
       "      <td>1</td>\n",
       "      <td>ayushi majorgauravarya generalbakshi republic_bharat republic ishkarnbhandari vaibhavup anshume ubxmkqkw</td>\n",
       "    </tr>\n",
       "    <tr>\n",
       "      <th>1</th>\n",
       "      <td>1</td>\n",
       "      <td>liv_laugh_lovex ladkiyon ke tweet followers aisy like krte hain ladkon k tweet scroll kr k guzar jate h</td>\n",
       "    </tr>\n",
       "    <tr>\n",
       "      <th>2</th>\n",
       "      <td>0</td>\n",
       "      <td>omarabdullah bad didnt think last year j k wouldnt without telecom services months end</td>\n",
       "    </tr>\n",
       "    <tr>\n",
       "      <th>3</th>\n",
       "      <td>0</td>\n",
       "      <td>tft_off last hrs valimai tag count k tweets thalaajith</td>\n",
       "    </tr>\n",
       "    <tr>\n",
       "      <th>4</th>\n",
       "      <td>0</td>\n",
       "      <td>want gf k kissing cuddldfijg like thsi dprnuoywav</td>\n",
       "    </tr>\n",
       "  </tbody>\n",
       "</table>\n",
       "</div>"
      ],
      "text/plain": [
       "   Prediction  \\\n",
       "0  1            \n",
       "1  1            \n",
       "2  0            \n",
       "3  0            \n",
       "4  0            \n",
       "\n",
       "                                                                                                     Tweets  \n",
       "0  ayushi majorgauravarya generalbakshi republic_bharat republic ishkarnbhandari vaibhavup anshume ubxmkqkw  \n",
       "1  liv_laugh_lovex ladkiyon ke tweet followers aisy like krte hain ladkon k tweet scroll kr k guzar jate h   \n",
       "2  omarabdullah bad didnt think last year j k wouldnt without telecom services months end                    \n",
       "3  tft_off last hrs valimai tag count k tweets thalaajith                                                    \n",
       "4  want gf k kissing cuddldfijg like thsi dprnuoywav                                                         "
      ]
     },
     "execution_count": 10,
     "metadata": {},
     "output_type": "execute_result"
    }
   ],
   "source": [
    "search_keyword = 'King Von'\n",
    "# Get tweets for a hashtag\n",
    "df_tweets = get_related_tweets(search_keyword)\n",
    "# Predict Emotion for the tweets\n",
    "df_tweets = predict_emotion(df_tweets)\n",
    "# Clean the tweets\n",
    "df_tweets = data_cleaning(df_tweets)\n",
    "df_tweets.head()"
   ]
  },
  {
   "cell_type": "code",
   "execution_count": 11,
   "metadata": {},
   "outputs": [
    {
     "data": {
      "text/plain": [
       "<matplotlib.legend.Legend at 0x1a1ef8a8d0>"
      ]
     },
     "execution_count": 11,
     "metadata": {},
     "output_type": "execute_result"
    },
    {
     "data": {
      "image/png": "[encoded data removed]",
      "text/plain": [
       "<Figure size 432x288 with 1 Axes>"
      ]
     },
     "metadata": {
      "needs_background": "light"
     },
     "output_type": "display_data"
    }
   ],
   "source": [
    "from matplotlib.pyplot import *\n",
    "\n",
    "ax = df_tweets.Prediction.value_counts().plot(kind = \"bar\")\n",
    "ax.legend([\"Positive\",\"Negative\"],loc='upper right')"
   ]
  },
  {
   "cell_type": "markdown",
   "metadata": {},
   "source": [
    "### Connect webpage and Model"
   ]
  },
  {
   "cell_type": "code",
   "execution_count": 12,
   "metadata": {},
   "outputs": [
    {
     "name": "stdout",
     "output_type": "stream",
     "text": [
      " * Serving Flask app \"__main__\" (lazy loading)\n",
      " * Environment: production\n",
      "   WARNING: Do not use the development server in a production environment.\n",
      "   Use a production WSGI server instead.\n",
      " * Debug mode: on\n"
     ]
    },
    {
     "name": "stderr",
     "output_type": "stream",
     "text": [
      " * Running on http://127.0.0.1:5000/ (Press CTRL+C to quit)\n",
      "127.0.0.1 - - [10/Nov/2020 08:34:07] \"GET / HTTP/1.1\" 200 -\n"
     ]
    },
    {
     "name": "stdout",
     "output_type": "stream",
     "text": [
      "An exception occurred:  Language does not exist.\n",
      "Exception 'NoneType' object has no attribute 'group'\n",
      "Exception 'NoneType' object has no attribute 'group'\n",
      "Exception 'NoneType' object has no attribute 'group'\n",
      "Exception 'NoneType' object has no attribute 'group'\n",
      "Exception 'NoneType' object has no attribute 'group'\n"
     ]
    },
    {
     "name": "stderr",
     "output_type": "stream",
     "text": [
      "127.0.0.1 - - [10/Nov/2020 08:34:13] \"POST / HTTP/1.1\" 200 -\n",
      "127.0.0.1 - - [10/Nov/2020 08:34:18] \"POST /get_data HTTP/1.1\" 302 -\n"
     ]
    },
    {
     "name": "stdout",
     "output_type": "stream",
     "text": [
      "Searching tweets for:  R-filter:retweets-filter:media\n"
     ]
    },
    {
     "name": "stderr",
     "output_type": "stream",
     "text": [
      "127.0.0.1 - - [10/Nov/2020 08:34:20] \"GET /success/RUPERT HTTP/1.1\" 200 -\n"
     ]
    },
    {
     "data": {
      "image/png": "[encoded data removed]",
      "text/plain": [
       "<Figure size 432x288 with 1 Axes>"
      ]
     },
     "metadata": {
      "needs_background": "light"
     },
     "output_type": "display_data"
    }
   ],
   "source": [
    "# importing the required libraries\n",
    "from flask import Flask, render_template, request, redirect, url_for, Response\n",
    "from flask_table import Table, Col\n",
    "from joblib import load\n",
    "from flask import send_file\n",
    "#import base64\n",
    "from io import BytesIO\n",
    "#import io\n",
    "#import random\n",
    "from matplotlib.backends.backend_agg import FigureCanvasAgg as FigureCanvas\n",
    "from matplotlib.figure import Figure\n",
    "import random, threading, webbrowser\n",
    "\n",
    "\n",
    "####------function to get trening tweets----####\n",
    "def gettrends():\n",
    "    # get the twitter trends\n",
    "    df_world_trends = get_trends_by_location(1, 10)\n",
    "    df_world_trends[\"Translated_Trends\"] = [get_translation(val) for val in df_world_trends.Trends]\n",
    "    return df_world_trends[[\"Trends\",\"Language\",\"Translated_Trends\"]]\n",
    "\n",
    "####------ function to get results for a particular text query----####\n",
    "def requestResults(search_keyword):\n",
    "    # get the tweets text\n",
    "    df_tweets = get_related_tweets(search_keyword)\n",
    "    # Predict Emotion for the tweets\n",
    "    df_tweets = predict_emotion(df_tweets)\n",
    "    # Clean the tweets\n",
    "    df_tweets = data_cleaning(df_tweets)\n",
    "\n",
    "    return df_tweets\n",
    "\n",
    "####------ function to create a plot ----####\n",
    "def create_plot():\n",
    "    fig = Figure()\n",
    "    img = df_tweets.Prediction.value_counts().plot(kind = \"bar\")\n",
    "    return fig\n",
    "# start flask\n",
    "app = Flask(__name__)\n",
    "\n",
    "####------render default webpage ----####\n",
    "@app.route('/')\n",
    "def home():\n",
    "    return render_template('home.html')\n",
    "\n",
    "# when the post method detect, then redirect to trends page\n",
    "@app.route('/', methods=['POST', 'GET'])\n",
    "def get_trends():\n",
    "    if request.method == 'POST':\n",
    "        trends = gettrends()\n",
    "        return render_template('trends.html', table=trends.to_html())\n",
    "\n",
    "\n",
    "# when the post method detect, create a url for success\n",
    "@app.route('/get_data', methods=['POST', 'GET'])\n",
    "def get_data():\n",
    "    if request.method == 'POST':\n",
    "        name = request.form['search']\n",
    "        return redirect(url_for('success', name=name))\n",
    "\n",
    "    #create a Plot and send a png file\n",
    "@app.route('/plot_png')\n",
    "def plot_png():\n",
    "    fig = create_plot()\n",
    "    img = BytesIO()\n",
    "    plt.savefig(img)\n",
    "    img.seek(0)\n",
    "    #plot_url = base64.b64encode(img.getvalue())\n",
    "    return send_file(img, mimetype='image/png')\n",
    "\n",
    "####------when the post method detect, then redirect to results page\n",
    "@app.route('/success/<name>')\n",
    "def success(name):\n",
    "    #return \"<xmp>\" + str(requestResults(name)) + \" </xmp> \"\n",
    "    results = requestResults(name)\n",
    "    plot_url = plot_png()\n",
    "    return render_template('results.html', img=plot_url, table=results.to_html())\n",
    "\n",
    "\n",
    "if __name__ == '__main__':\n",
    "    #port = 5000 + random.randint(0, 999)\n",
    "    #print(port)\n",
    "    #url = \"http://127.0.0.1:{0}\".format(port)\n",
    "    #print(url)\n",
    "    #app.run(use_reloader=False, debug=True, port=port)\n",
    "    app.run(use_reloader=False, debug=True)\n",
    "    "
   ]
  },
  {
   "cell_type": "code",
   "execution_count": null,
   "metadata": {},
   "outputs": [],
   "source": []
  },
  {
   "cell_type": "code",
   "execution_count": null,
   "metadata": {},
   "outputs": [],
   "source": []
  }
 ],
 "metadata": {
  "kernelspec": {
   "display_name": "Python 3",
   "language": "python",
   "name": "python3"
  },
  "language_info": {
   "codemirror_mode": {
    "name": "ipython",
    "version": 3
   },
   "file_extension": ".py",
   "mimetype": "text/x-python",
   "name": "python",
   "nbconvert_exporter": "python",
   "pygments_lexer": "ipython3",
   "version": "3.7.1"
  }
 },
 "nbformat": 4,
 "nbformat_minor": 2
}
