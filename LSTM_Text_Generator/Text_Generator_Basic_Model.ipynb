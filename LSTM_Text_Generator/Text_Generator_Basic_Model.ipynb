{
 "cells": [
  {
   "cell_type": "markdown",
   "metadata": {},
   "source": [
    "# Text Generator Using Keras LSTM"
   ]
  },
  {
   "cell_type": "markdown",
   "metadata": {},
   "source": [
    "## Import Libraries"
   ]
  },
  {
   "cell_type": "code",
   "execution_count": 1,
   "metadata": {},
   "outputs": [
    {
     "name": "stderr",
     "output_type": "stream",
     "text": [
      "Using TensorFlow backend.\n"
     ]
    }
   ],
   "source": [
    "# Import Keras\n",
    "from keras.models import Sequential\n",
    "from keras.layers import Dense\n",
    "from keras.layers import Dropout\n",
    "from keras.layers import LSTM\n",
    "from keras.utils import np_utils\n",
    "# Import Other Libraries\n",
    "import numpy as np\n",
    "import pandas as pd"
   ]
  },
  {
   "cell_type": "markdown",
   "metadata": {},
   "source": [
    "## Load Data"
   ]
  },
  {
   "cell_type": "code",
   "execution_count": 2,
   "metadata": {},
   "outputs": [],
   "source": [
    "df_text=(open(\"PrideAndPrejudice.txt\").read())\n",
    "df_text=df_text.lower()"
   ]
  },
  {
   "cell_type": "code",
   "execution_count": 3,
   "metadata": {},
   "outputs": [
    {
     "name": "stdout",
     "output_type": "stream",
     "text": [
      "754870\n"
     ]
    }
   ],
   "source": [
    "print(len(df_text))"
   ]
  },
  {
   "cell_type": "code",
   "execution_count": 4,
   "metadata": {},
   "outputs": [
    {
     "name": "stdout",
     "output_type": "stream",
     "text": [
      "chapter 1\n",
      "\n",
      "      it is a truth universally acknowledged, that a single man in\n",
      "      possession of a good fortune, must be in want of a wife.\n",
      "\n",
      "      however little known the feelings or views of such a man may be\n",
      "      on his first entering a neighbourhood, this truth is so well\n",
      "      fixed in the minds of the surrounding families, that he is\n",
      "      considered the rightful property of some one or other of their\n",
      "      daughters.\n",
      "\n",
      "      “my dear mr. bennet,” said his lady to him one day, “have you\n",
      " \n"
     ]
    }
   ],
   "source": [
    "print(df_text[:500])"
   ]
  },
  {
   "cell_type": "markdown",
   "metadata": {},
   "source": [
    "## Create Character-Number Mapping"
   ]
  },
  {
   "cell_type": "code",
   "execution_count": 5,
   "metadata": {},
   "outputs": [
    {
     "name": "stdout",
     "output_type": "stream",
     "text": [
      "['\\n', ' ', '!', '(', ')', ',', '-', '.', '0', '1', '2', '3', '4', '5', '6', '7', '8', '9', ':', ';', '?', '_', 'a', 'b', 'c', 'd', 'e', 'f', 'g', 'h', 'i', 'j', 'k', 'l', 'm', 'n', 'o', 'p', 'q', 'r', 's', 't', 'u', 'v', 'w', 'x', 'y', 'z', 'à', 'é', 'ê', '—', '‘', '’', '“', '”']\n",
      "Total Characters:  56\n"
     ]
    }
   ],
   "source": [
    "characters = sorted(list(set(df_text)))\n",
    "print(characters)\n",
    "print(\"Total Characters: \", len(characters))"
   ]
  },
  {
   "cell_type": "code",
   "execution_count": 6,
   "metadata": {},
   "outputs": [],
   "source": [
    "char_to_n = {char:n for n, char in enumerate(characters)}"
   ]
  },
  {
   "cell_type": "markdown",
   "metadata": {},
   "source": [
    "## Data Preprocessing"
   ]
  },
  {
   "cell_type": "code",
   "execution_count": 7,
   "metadata": {},
   "outputs": [],
   "source": [
    "X = []\n",
    "Y = []\n",
    "length = len(df_text)\n",
    "seq_length = 100\n",
    "for i in range(0, length-seq_length, 1):\n",
    "    sequence = df_text[i:i + seq_length]\n",
    "    label =df_text[i + seq_length]\n",
    "    X.append([char_to_n[char] for char in sequence])\n",
    "    Y.append(char_to_n[label])"
   ]
  },
  {
   "cell_type": "code",
   "execution_count": 8,
   "metadata": {},
   "outputs": [
    {
     "name": "stdout",
     "output_type": "stream",
     "text": [
      "754770\n",
      "754770\n"
     ]
    }
   ],
   "source": [
    "print(len(X))\n",
    "print(len(Y))"
   ]
  },
  {
   "cell_type": "code",
   "execution_count": 9,
   "metadata": {},
   "outputs": [
    {
     "name": "stdout",
     "output_type": "stream",
     "text": [
      "[24, 29, 22, 37, 41, 26, 39, 1, 9, 0, 0, 1, 1, 1, 1, 1, 1, 30, 41, 1, 30, 40, 1, 22, 1, 41, 39, 42, 41, 29, 1, 42, 35, 30, 43, 26, 39, 40, 22, 33, 33, 46, 1, 22, 24, 32, 35, 36, 44, 33, 26, 25, 28, 26, 25, 5, 1, 41, 29, 22, 41, 1, 22, 1, 40, 30, 35, 28, 33, 26, 1, 34, 22, 35, 1, 30, 35, 0, 1, 1, 1, 1, 1, 1, 37, 36, 40, 40, 26, 40, 40, 30, 36, 35, 1, 36, 27, 1, 22, 1]\n"
     ]
    }
   ],
   "source": [
    "print(X[0])"
   ]
  },
  {
   "cell_type": "code",
   "execution_count": 10,
   "metadata": {},
   "outputs": [
    {
     "name": "stdout",
     "output_type": "stream",
     "text": [
      "X:  [[0.42857143]\n",
      " [0.51785714]\n",
      " [0.39285714]\n",
      " [0.66071429]\n",
      " [0.73214286]\n",
      " [0.46428571]\n",
      " [0.69642857]\n",
      " [0.01785714]\n",
      " [0.16071429]\n",
      " [0.        ]\n",
      " [0.        ]\n",
      " [0.01785714]\n",
      " [0.01785714]\n",
      " [0.01785714]\n",
      " [0.01785714]\n",
      " [0.01785714]\n",
      " [0.01785714]\n",
      " [0.53571429]\n",
      " [0.73214286]\n",
      " [0.01785714]\n",
      " [0.53571429]\n",
      " [0.71428571]\n",
      " [0.01785714]\n",
      " [0.39285714]\n",
      " [0.01785714]\n",
      " [0.73214286]\n",
      " [0.69642857]\n",
      " [0.75      ]\n",
      " [0.73214286]\n",
      " [0.51785714]\n",
      " [0.01785714]\n",
      " [0.75      ]\n",
      " [0.625     ]\n",
      " [0.53571429]\n",
      " [0.76785714]\n",
      " [0.46428571]\n",
      " [0.69642857]\n",
      " [0.71428571]\n",
      " [0.39285714]\n",
      " [0.58928571]\n",
      " [0.58928571]\n",
      " [0.82142857]\n",
      " [0.01785714]\n",
      " [0.39285714]\n",
      " [0.42857143]\n",
      " [0.57142857]\n",
      " [0.625     ]\n",
      " [0.64285714]\n",
      " [0.78571429]\n",
      " [0.58928571]\n",
      " [0.46428571]\n",
      " [0.44642857]\n",
      " [0.5       ]\n",
      " [0.46428571]\n",
      " [0.44642857]\n",
      " [0.08928571]\n",
      " [0.01785714]\n",
      " [0.73214286]\n",
      " [0.51785714]\n",
      " [0.39285714]\n",
      " [0.73214286]\n",
      " [0.01785714]\n",
      " [0.39285714]\n",
      " [0.01785714]\n",
      " [0.71428571]\n",
      " [0.53571429]\n",
      " [0.625     ]\n",
      " [0.5       ]\n",
      " [0.58928571]\n",
      " [0.46428571]\n",
      " [0.01785714]\n",
      " [0.60714286]\n",
      " [0.39285714]\n",
      " [0.625     ]\n",
      " [0.01785714]\n",
      " [0.53571429]\n",
      " [0.625     ]\n",
      " [0.        ]\n",
      " [0.01785714]\n",
      " [0.01785714]\n",
      " [0.01785714]\n",
      " [0.01785714]\n",
      " [0.01785714]\n",
      " [0.01785714]\n",
      " [0.66071429]\n",
      " [0.64285714]\n",
      " [0.71428571]\n",
      " [0.71428571]\n",
      " [0.46428571]\n",
      " [0.71428571]\n",
      " [0.71428571]\n",
      " [0.53571429]\n",
      " [0.64285714]\n",
      " [0.625     ]\n",
      " [0.01785714]\n",
      " [0.64285714]\n",
      " [0.48214286]\n",
      " [0.01785714]\n",
      " [0.39285714]\n",
      " [0.01785714]]\n",
      "Y:  [0. 0. 0. 0. 0. 0. 0. 0. 0. 0. 0. 0. 0. 0. 0. 0. 0. 0. 0. 0. 0. 0. 0. 0.\n",
      " 0. 0. 0. 0. 1. 0. 0. 0. 0. 0. 0. 0. 0. 0. 0. 0. 0. 0. 0. 0. 0. 0. 0. 0.\n",
      " 0. 0. 0. 0. 0. 0. 0. 0.]\n"
     ]
    }
   ],
   "source": [
    "X_modified = np.reshape(X, (len(X), seq_length, 1))\n",
    "X_modified = X_modified / float(len(characters))\n",
    "Y_modified = np_utils.to_categorical(Y)\n",
    "print(\"X: \",X_modified[0])\n",
    "print(\"Y: \",Y_modified[0])"
   ]
  },
  {
   "cell_type": "markdown",
   "metadata": {},
   "source": [
    "## LSTM Basic Model"
   ]
  },
  {
   "cell_type": "code",
   "execution_count": 12,
   "metadata": {},
   "outputs": [],
   "source": [
    "model = Sequential()\n",
    "model.add(LSTM(200, input_shape=(X_modified.shape[1], X_modified.shape[2]), return_sequences=True))\n",
    "model.add(Dropout(0.2))\n",
    "model.add(LSTM(200))\n",
    "model.add(Dropout(0.2))\n",
    "model.add(Dense(Y_modified.shape[1], activation='softmax'))\n",
    "model.compile(loss='categorical_crossentropy', optimizer='adam')"
   ]
  },
  {
   "cell_type": "code",
   "execution_count": null,
   "metadata": {},
   "outputs": [],
   "source": [
    "model.fit(X_modified, Y_modified, epochs=1, batch_size=100)"
   ]
  },
  {
   "cell_type": "markdown",
   "metadata": {},
   "source": [
    "## Save/Load the Model"
   ]
  },
  {
   "cell_type": "code",
   "execution_count": null,
   "metadata": {},
   "outputs": [],
   "source": [
    "model.save_weights('/Users/oindrilasen/WORK_AREA/Data Science/Projects/LSTM_Text_Generator/models/text_generator_basic_model.h5')"
   ]
  },
  {
   "cell_type": "code",
   "execution_count": 13,
   "metadata": {},
   "outputs": [],
   "source": [
    "model.load_weights('/Users/oindrilasen/WORK_AREA/Data Science/Projects/LSTM_Text_Generator/models/text_generator_basic_model.h5')"
   ]
  },
  {
   "cell_type": "markdown",
   "metadata": {},
   "source": [
    "## Generate Text"
   ]
  },
  {
   "cell_type": "code",
   "execution_count": 14,
   "metadata": {},
   "outputs": [],
   "source": [
    "n_to_char = dict((i, c) for i, c in enumerate(characters))"
   ]
  },
  {
   "cell_type": "code",
   "execution_count": 16,
   "metadata": {},
   "outputs": [
    {
     "data": {
      "text/plain": [
       "['c',\n",
       " 'h',\n",
       " 'a',\n",
       " 'p',\n",
       " 't',\n",
       " 'e',\n",
       " 'r',\n",
       " ' ',\n",
       " '1',\n",
       " '\\n',\n",
       " '\\n',\n",
       " ' ',\n",
       " ' ',\n",
       " ' ',\n",
       " ' ',\n",
       " ' ',\n",
       " ' ',\n",
       " 'i',\n",
       " 't',\n",
       " ' ',\n",
       " 'i',\n",
       " 's',\n",
       " ' ',\n",
       " 'a',\n",
       " ' ',\n",
       " 't',\n",
       " 'r',\n",
       " 'u',\n",
       " 't',\n",
       " 'h',\n",
       " ' ',\n",
       " 'u',\n",
       " 'n',\n",
       " 'i',\n",
       " 'v',\n",
       " 'e',\n",
       " 'r',\n",
       " 's',\n",
       " 'a',\n",
       " 'l',\n",
       " 'l',\n",
       " 'y',\n",
       " ' ',\n",
       " 'a',\n",
       " 'c',\n",
       " 'k',\n",
       " 'n',\n",
       " 'o',\n",
       " 'w',\n",
       " 'l',\n",
       " 'e',\n",
       " 'd',\n",
       " 'g',\n",
       " 'e',\n",
       " 'd',\n",
       " ',',\n",
       " ' ',\n",
       " 't',\n",
       " 'h',\n",
       " 'a',\n",
       " 't',\n",
       " ' ',\n",
       " 'a',\n",
       " ' ',\n",
       " 's',\n",
       " 'i',\n",
       " 'n',\n",
       " 'g',\n",
       " 'l',\n",
       " 'e',\n",
       " ' ',\n",
       " 'm',\n",
       " 'a',\n",
       " 'n',\n",
       " ' ',\n",
       " 'i',\n",
       " 'n',\n",
       " '\\n',\n",
       " ' ',\n",
       " ' ',\n",
       " ' ',\n",
       " ' ',\n",
       " ' ',\n",
       " ' ',\n",
       " 'p',\n",
       " 'o',\n",
       " 's',\n",
       " 's',\n",
       " 'e',\n",
       " 's',\n",
       " 's',\n",
       " 'i',\n",
       " 'o',\n",
       " 'n',\n",
       " ' ',\n",
       " 'o',\n",
       " 'f',\n",
       " ' ',\n",
       " 'a',\n",
       " ' ']"
      ]
     },
     "execution_count": 16,
     "metadata": {},
     "output_type": "execute_result"
    }
   ],
   "source": [
    "string_mapped = X[0]\n",
    "full_string = [n_to_char[value] for value in string_mapped]\n",
    "full_string"
   ]
  },
  {
   "cell_type": "code",
   "execution_count": 17,
   "metadata": {},
   "outputs": [],
   "source": [
    "# generating characters\n",
    "for i in range(400):\n",
    "    x = np.reshape(string_mapped,(1,len(string_mapped), 1))\n",
    "    x = x / float(len(characters))\n",
    "\n",
    "    pred_index = np.argmax(model.predict(x, verbose=0))\n",
    "    seq = [n_to_char[value] for value in string_mapped]\n",
    "    full_string.append(n_to_char[pred_index])\n",
    "\n",
    "    string_mapped.append(pred_index)\n",
    "    string_mapped = string_mapped[1:len(string_mapped)]"
   ]
  },
  {
   "cell_type": "code",
   "execution_count": 22,
   "metadata": {},
   "outputs": [
    {
     "name": "stdout",
     "output_type": "stream",
     "text": [
      "chapter 1\n",
      "\n",
      "      it is a truth universally acknowledged, that a single man in\n",
      "      possession of a good fortune, must be in want of a wife.\n",
      "\n",
      "      however little known the feelings or views of such a\n"
     ]
    }
   ],
   "source": [
    "print(df_text[:200])"
   ]
  },
  {
   "cell_type": "code",
   "execution_count": 18,
   "metadata": {},
   "outputs": [
    {
     "data": {
      "text/plain": [
       "'chapter 1\\n\\n      it is a truth universally acknowledged, that a single man in\\n      possession of a lere the sase the sase the sase the sas to the\\n      she sooe the sase the sase the sase the sase the sas to the       pere the sas to the sase the sase the sase the sase the was        “i sas to the sase the sase the sase the sase the sas to the\\n      pere the sas to the sase the sase the sase the sase the was        “i sas to the sase the sase the sase the sase the sas to the\\n      pere the sas '"
      ]
     },
     "execution_count": 18,
     "metadata": {},
     "output_type": "execute_result"
    }
   ],
   "source": [
    "#combining text\n",
    "txt=\"\"\n",
    "for char in full_string:\n",
    "    txt = txt+char\n",
    "txt"
   ]
  },
  {
   "cell_type": "code",
   "execution_count": 23,
   "metadata": {},
   "outputs": [
    {
     "name": "stdout",
     "output_type": "stream",
     "text": [
      "267836\n",
      "Seed:\n",
      "\"       receiving her brother and his wife, who came as usual to spend\n",
      "      the christmas at longbour \"\n",
      " and the sase the sase the sas to the\n",
      "      pere the sas to the sase the sase the sase the sase the was        “i sas to the sase the sase the sase the sase the sas to the\n",
      "      pere the sas to the sase the sase the sase the sase the was        “i sas to the sase the sase the sase the sase the sas to the\n",
      "      pere the sas to the sase the sase the sase the sase the was        “i sas to the sase the sase the sase the sase the sas to the\n",
      "      pere the sas to the sase the sase the sase the sase the was        “i sas to the sase the sase the sase the sase the sas to the\n",
      "      pere the sas to the sase the sase the sase the sase the was        “i sas to the sase the sase the sase the sase the sas to the\n",
      "      pere the sas to the sase the sase the sase the sase the was        “i sas to the sase the sase the sase the sase the sas to the\n",
      "      pere the sas to the sase the sase the sase the sase the was        “i sas to the sase the sase the sase the sase the sas to the\n",
      "      pere the sas to th\n",
      "Done\n"
     ]
    }
   ],
   "source": [
    "\n",
    "# Load LSTM network and generate text\n",
    "import sys\n",
    "# pick a random seed\n",
    "start = np.random.randint(0, len(X)-1)\n",
    "print(start)\n",
    "pattern = X[start]\n",
    "n_vocab = len(characters)\n",
    "print(\"Seed:\")\n",
    "\n",
    "print( \"\\\"\", ''.join([n_to_char[value] for value in pattern]), \"\\\"\")\n",
    "# generate characters\n",
    "for i in range(1000):\n",
    "    x = np.reshape(pattern, (1, len(pattern), 1))\n",
    "    x = x / float(n_vocab)\n",
    "    prediction = model.predict(x, verbose=0)\n",
    "    index = np.argmax(prediction)\n",
    "    result = n_to_char[index]\n",
    "    seq_in = [n_to_char[value] for value in pattern]\n",
    "    sys.stdout.write(result)\n",
    "    pattern.append(index)\n",
    "    pattern = pattern[1:len(pattern)]\n",
    "print (\"\\nDone\")"
   ]
  },
  {
   "cell_type": "code",
   "execution_count": null,
   "metadata": {},
   "outputs": [],
   "source": []
  }
 ],
 "metadata": {
  "kernelspec": {
   "display_name": "Python 3",
   "language": "python",
   "name": "python3"
  },
  "language_info": {
   "codemirror_mode": {
    "name": "ipython",
    "version": 3
   },
   "file_extension": ".py",
   "mimetype": "text/x-python",
   "name": "python",
   "nbconvert_exporter": "python",
   "pygments_lexer": "ipython3",
   "version": "3.7.9"
  }
 },
 "nbformat": 4,
 "nbformat_minor": 2
}
