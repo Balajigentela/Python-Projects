{
 "cells": [
  {
   "cell_type": "markdown",
   "metadata": {},
   "source": [
    "### Import Libraries"
   ]
  },
  {
   "cell_type": "code",
   "execution_count": 1,
   "metadata": {},
   "outputs": [],
   "source": [
    "from chatterbot import ChatBot\n",
    "from chatterbot.trainers import ListTrainer\n",
    "from chatterbot.trainers import ChatterBotCorpusTrainer\n",
    "\n",
    "# Hide warnings\n",
    "import warnings\n",
    "warnings.filterwarnings('ignore')"
   ]
  },
  {
   "cell_type": "markdown",
   "metadata": {},
   "source": [
    "### Train Chatbot"
   ]
  },
  {
   "cell_type": "code",
   "execution_count": 2,
   "metadata": {},
   "outputs": [],
   "source": [
    "def train_chatbot():\n",
    "    try:\n",
    "        #Create a new instance of the ChatBot class.\n",
    "        chatbot = ChatBot('MiniMe')\n",
    "        # Create a new trainer for the chatbot\n",
    "        trainer = ChatterBotCorpusTrainer(chatbot)\n",
    "        # Train the chatbot based on the english corpus\n",
    "        trainer.train(\"chatterbot.corpus.english\")\n",
    "        # Train based on english greetings corpus\n",
    "        trainer.train(\"chatterbot.corpus.english.greetings\")\n",
    "        # Train based on the english conversations corpus\n",
    "        trainer.train(\"chatterbot.corpus.english.conversations\")\n",
    "        return chatbot\n",
    "    except e:\n",
    "        print(\"Error:\", e)"
   ]
  },
  {
   "cell_type": "markdown",
   "metadata": {},
   "source": [
    "### Chat with a Chatbot"
   ]
  },
  {
   "cell_type": "code",
   "execution_count": 3,
   "metadata": {},
   "outputs": [
    {
     "name": "stderr",
     "output_type": "stream",
     "text": [
      "[nltk_data] Downloading package averaged_perceptron_tagger to\n",
      "[nltk_data]     /Users/oindrilasen/nltk_data...\n",
      "[nltk_data]   Package averaged_perceptron_tagger is already up-to-\n",
      "[nltk_data]       date!\n",
      "[nltk_data] Downloading package punkt to\n",
      "[nltk_data]     /Users/oindrilasen/nltk_data...\n",
      "[nltk_data]   Package punkt is already up-to-date!\n",
      "[nltk_data] Downloading package stopwords to\n",
      "[nltk_data]     /Users/oindrilasen/nltk_data...\n",
      "[nltk_data]   Package stopwords is already up-to-date!\n"
     ]
    },
    {
     "name": "stdout",
     "output_type": "stream",
     "text": [
      "Training ai.yml: [####################] 100%\n",
      "Training botprofile.yml: [####################] 100%\n",
      "Training computers.yml: [####################] 100%\n",
      "Training conversations.yml: [####################] 100%\n",
      "Training emotion.yml: [####################] 100%\n",
      "Training food.yml: [####################] 100%\n",
      "Training gossip.yml: [####################] 100%\n",
      "Training greetings.yml: [####################] 100%\n",
      "Training health.yml: [####################] 100%\n",
      "Training history.yml: [####################] 100%\n",
      "Training humor.yml: [####################] 100%\n",
      "Training literature.yml: [####################] 100%\n",
      "Training money.yml: [####################] 100%\n",
      "Training movies.yml: [####################] 100%\n",
      "Training politics.yml: [####################] 100%\n",
      "Training psychology.yml: [####################] 100%\n",
      "Training science.yml: [####################] 100%\n",
      "Training sports.yml: [####################] 100%\n",
      "Training trivia.yml: [####################] 100%\n",
      "Training greetings.yml: [####################] 100%\n",
      "Training conversations.yml: [####################] 100%\n",
      "MiniBot: Hello i'm MiniMe, A Bot\n",
      "\n",
      "Good Morning!\n",
      "MiniBot : A motormouth.\n",
      "What? That was a greetings!\n",
      "MiniBot : I am still young by your standards.\n",
      "Hmmm, are you sure?\n",
      "MiniBot : Just because I'm software does not mean that I cannot experience existence.\n",
      "Oh my God!\n",
      "MiniBot : My database lacks the training background to feel or even understand anger.\n",
      "I love that\n",
      "MiniBot : I love exploring my hardware.\n",
      "Good one\n",
      "MiniBot : How are you doing?\n",
      "pretty good, how about you?\n",
      "MiniBot : what do you get when you cross sour music and an assistant?\n",
      "you?\n",
      "MiniBot : I am just an artificial intelligence.\n",
      "okay, I can't stop talking to you\n",
      "MiniBot : So what's your favorite color?\n",
      "red\n",
      "MiniBot : I am doing well.\n",
      "Stop\n",
      "MiniMe: Bye\n"
     ]
    }
   ],
   "source": [
    "bot = train_chatbot()\n",
    "print(\"MiniBot: Hello i'm MiniMe, A Bot\\n\")\n",
    "while True:\n",
    "    try:\n",
    "        bot_input = input()\n",
    "\n",
    "        if bot_input.strip()=='Stop':\n",
    "            print('MiniMe: Bye')\n",
    "            break\n",
    "\n",
    "        bot_response = bot.get_response(bot_input)\n",
    "        print(\"MiniBot :\", bot_response)\n",
    "\n",
    "    except(KeyboardInterrupt, EOFError, SystemExit):\n",
    "        break"
   ]
  },
  {
   "cell_type": "code",
   "execution_count": null,
   "metadata": {},
   "outputs": [],
   "source": []
  }
 ],
 "metadata": {
  "kernelspec": {
   "display_name": "Python 3",
   "language": "python",
   "name": "python3"
  },
  "language_info": {
   "codemirror_mode": {
    "name": "ipython",
    "version": 3
   },
   "file_extension": ".py",
   "mimetype": "text/x-python",
   "name": "python",
   "nbconvert_exporter": "python",
   "pygments_lexer": "ipython3",
   "version": "3.7.1"
  }
 },
 "nbformat": 4,
 "nbformat_minor": 2
}
