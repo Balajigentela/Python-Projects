{
 "cells": [
  {
   "cell_type": "markdown",
   "metadata": {},
   "source": [
    "# Twitter - Tweet Trends Analysis"
   ]
  },
  {
   "cell_type": "markdown",
   "metadata": {},
   "source": [
    "#### Import Libraries"
   ]
  },
  {
   "cell_type": "code",
   "execution_count": 1,
   "metadata": {},
   "outputs": [],
   "source": [
    "# Import Libraries\n",
    "import tweepy\n",
    "##\n",
    "import csv\n",
    "import sys\n",
    "import config\n",
    "## Preprocessing\n",
    "import pandas as pd\n",
    "from langdetect import detect"
   ]
  },
  {
   "cell_type": "markdown",
   "metadata": {},
   "source": [
    "#### Initialize Twitter API"
   ]
  },
  {
   "cell_type": "code",
   "execution_count": 2,
   "metadata": {},
   "outputs": [],
   "source": [
    "# initialize api instance\n",
    "consumer_key= config.consumer_key\n",
    "consumer_secret= config.consumer_secret\n",
    "access_token=config.access_token\n",
    "access_token_secret =config.access_token_secret"
   ]
  },
  {
   "cell_type": "code",
   "execution_count": 3,
   "metadata": {},
   "outputs": [],
   "source": [
    "#Connect to Twitter through the API\n",
    "auth = tweepy.OAuthHandler(consumer_key, consumer_secret) \n",
    "auth.set_access_token(access_token, access_token_secret) \n",
    "api = tweepy.API(auth,wait_on_rate_limit=True) "
   ]
  },
  {
   "cell_type": "markdown",
   "metadata": {},
   "source": [
    "### Get Twitter Trends By Location"
   ]
  },
  {
   "cell_type": "code",
   "execution_count": 4,
   "metadata": {},
   "outputs": [
    {
     "data": {
      "text/plain": [
       "{'name': 'Worldwide',\n",
       " 'placeType': {'code': 19, 'name': 'Supername'},\n",
       " 'url': 'http://where.yahooapis.com/v1/place/1',\n",
       " 'parentid': 0,\n",
       " 'country': '',\n",
       " 'woeid': 1,\n",
       " 'countryCode': None}"
      ]
     },
     "execution_count": 4,
     "metadata": {},
     "output_type": "execute_result"
    }
   ],
   "source": [
    "api.trends_available()[0]"
   ]
  },
  {
   "cell_type": "markdown",
   "metadata": {},
   "source": [
    "#### Check Values for India"
   ]
  },
  {
   "cell_type": "code",
   "execution_count": 15,
   "metadata": {},
   "outputs": [
    {
     "name": "stdout",
     "output_type": "stream",
     "text": [
      "dict_keys(['name', 'placeType', 'url', 'parentid', 'country', 'woeid', 'countryCode'])\n",
      "dict_keys(['name', 'placeType', 'url', 'parentid', 'country', 'woeid', 'countryCode'])\n",
      "dict_keys(['name', 'placeType', 'url', 'parentid', 'country', 'woeid', 'countryCode'])\n",
      "dict_keys(['name', 'placeType', 'url', 'parentid', 'country', 'woeid', 'countryCode'])\n",
      "dict_keys(['name', 'placeType', 'url', 'parentid', 'country', 'woeid', 'countryCode'])\n",
      "dict_keys(['name', 'placeType', 'url', 'parentid', 'country', 'woeid', 'countryCode'])\n",
      "dict_keys(['name', 'placeType', 'url', 'parentid', 'country', 'woeid', 'countryCode'])\n",
      "dict_keys(['name', 'placeType', 'url', 'parentid', 'country', 'woeid', 'countryCode'])\n",
      "dict_keys(['name', 'placeType', 'url', 'parentid', 'country', 'woeid', 'countryCode'])\n",
      "dict_keys(['name', 'placeType', 'url', 'parentid', 'country', 'woeid', 'countryCode'])\n",
      "dict_keys(['name', 'placeType', 'url', 'parentid', 'country', 'woeid', 'countryCode'])\n",
      "dict_keys(['name', 'placeType', 'url', 'parentid', 'country', 'woeid', 'countryCode'])\n",
      "dict_keys(['name', 'placeType', 'url', 'parentid', 'country', 'woeid', 'countryCode'])\n",
      "dict_keys(['name', 'placeType', 'url', 'parentid', 'country', 'woeid', 'countryCode'])\n",
      "dict_keys(['name', 'placeType', 'url', 'parentid', 'country', 'woeid', 'countryCode'])\n",
      "dict_keys(['name', 'placeType', 'url', 'parentid', 'country', 'woeid', 'countryCode'])\n",
      "dict_keys(['name', 'placeType', 'url', 'parentid', 'country', 'woeid', 'countryCode'])\n",
      "dict_keys(['name', 'placeType', 'url', 'parentid', 'country', 'woeid', 'countryCode'])\n",
      "dict_keys(['name', 'placeType', 'url', 'parentid', 'country', 'woeid', 'countryCode'])\n",
      "dict_keys(['name', 'placeType', 'url', 'parentid', 'country', 'woeid', 'countryCode'])\n",
      "dict_keys(['name', 'placeType', 'url', 'parentid', 'country', 'woeid', 'countryCode'])\n",
      "dict_keys(['name', 'placeType', 'url', 'parentid', 'country', 'woeid', 'countryCode'])\n"
     ]
    }
   ],
   "source": [
    "for val in api.trends_available():\n",
    "    if val['country'] == 'India':\n",
    "        print(val.keys())"
   ]
  },
  {
   "cell_type": "code",
   "execution_count": 5,
   "metadata": {},
   "outputs": [
    {
     "name": "stdout",
     "output_type": "stream",
     "text": [
      "dict_values(['Nagpur', {'code': 7, 'name': 'Town'}, 'http://where.yahooapis.com/v1/place/2282863', 23424848, 'India', 2282863, 'IN'])\n",
      "dict_values(['Lucknow', {'code': 7, 'name': 'Town'}, 'http://where.yahooapis.com/v1/place/2295377', 23424848, 'India', 2295377, 'IN'])\n",
      "dict_values(['Kanpur', {'code': 7, 'name': 'Town'}, 'http://where.yahooapis.com/v1/place/2295378', 23424848, 'India', 2295378, 'IN'])\n",
      "dict_values(['Patna', {'code': 7, 'name': 'Town'}, 'http://where.yahooapis.com/v1/place/2295381', 23424848, 'India', 2295381, 'IN'])\n",
      "dict_values(['Ranchi', {'code': 7, 'name': 'Town'}, 'http://where.yahooapis.com/v1/place/2295383', 23424848, 'India', 2295383, 'IN'])\n",
      "dict_values(['Kolkata', {'code': 7, 'name': 'Town'}, 'http://where.yahooapis.com/v1/place/2295386', 23424848, 'India', 2295386, 'IN'])\n",
      "dict_values(['Srinagar', {'code': 7, 'name': 'Town'}, 'http://where.yahooapis.com/v1/place/2295387', 23424848, 'India', 2295387, 'IN'])\n",
      "dict_values(['Amritsar', {'code': 7, 'name': 'Town'}, 'http://where.yahooapis.com/v1/place/2295388', 23424848, 'India', 2295388, 'IN'])\n",
      "dict_values(['Jaipur', {'code': 7, 'name': 'Town'}, 'http://where.yahooapis.com/v1/place/2295401', 23424848, 'India', 2295401, 'IN'])\n",
      "dict_values(['Ahmedabad', {'code': 7, 'name': 'Town'}, 'http://where.yahooapis.com/v1/place/2295402', 23424848, 'India', 2295402, 'IN'])\n",
      "dict_values(['Rajkot', {'code': 7, 'name': 'Town'}, 'http://where.yahooapis.com/v1/place/2295404', 23424848, 'India', 2295404, 'IN'])\n",
      "dict_values(['Surat', {'code': 7, 'name': 'Town'}, 'http://where.yahooapis.com/v1/place/2295405', 23424848, 'India', 2295405, 'IN'])\n",
      "dict_values(['Bhopal', {'code': 7, 'name': 'Town'}, 'http://where.yahooapis.com/v1/place/2295407', 23424848, 'India', 2295407, 'IN'])\n",
      "dict_values(['Indore', {'code': 7, 'name': 'Town'}, 'http://where.yahooapis.com/v1/place/2295408', 23424848, 'India', 2295408, 'IN'])\n",
      "dict_values(['Thane', {'code': 7, 'name': 'Town'}, 'http://where.yahooapis.com/v1/place/2295410', 23424848, 'India', 2295410, 'IN'])\n",
      "dict_values(['Mumbai', {'code': 7, 'name': 'Town'}, 'http://where.yahooapis.com/v1/place/2295411', 23424848, 'India', 2295411, 'IN'])\n",
      "dict_values(['Pune', {'code': 7, 'name': 'Town'}, 'http://where.yahooapis.com/v1/place/2295412', 23424848, 'India', 2295412, 'IN'])\n",
      "dict_values(['Hyderabad', {'code': 7, 'name': 'Town'}, 'http://where.yahooapis.com/v1/place/2295414', 23424848, 'India', 2295414, 'IN'])\n",
      "dict_values(['Bangalore', {'code': 7, 'name': 'Town'}, 'http://where.yahooapis.com/v1/place/2295420', 23424848, 'India', 2295420, 'IN'])\n",
      "dict_values(['Chennai', {'code': 7, 'name': 'Town'}, 'http://where.yahooapis.com/v1/place/2295424', 23424848, 'India', 2295424, 'IN'])\n",
      "dict_values(['Delhi', {'code': 7, 'name': 'Town'}, 'http://where.yahooapis.com/v1/place/20070458', 23424848, 'India', 20070458, 'IN'])\n",
      "dict_values(['India', {'code': 12, 'name': 'Country'}, 'http://where.yahooapis.com/v1/place/23424848', 1, 'India', 23424848, 'IN'])\n"
     ]
    }
   ],
   "source": [
    "for val in api.trends_available():\n",
    "    if val['country'] == 'India':\n",
    "        print(val.values())"
   ]
  },
  {
   "cell_type": "code",
   "execution_count": 6,
   "metadata": {},
   "outputs": [],
   "source": [
    "def get_woeid(place):\n",
    "    '''Get woeid by location'''\n",
    "    try:\n",
    "        trends = api.trends_available()\n",
    "        for val in trends:\n",
    "            if (val['name'].lower() == place.lower()):\n",
    "                return(val['woeid']) \n",
    "        print('Location Not Found')\n",
    "    except Exception as e:\n",
    "        print('Exception:',e)\n",
    "        return(0)"
   ]
  },
  {
   "cell_type": "code",
   "execution_count": 7,
   "metadata": {},
   "outputs": [
    {
     "data": {
      "text/plain": [
       "23424848"
      ]
     },
     "execution_count": 7,
     "metadata": {},
     "output_type": "execute_result"
    }
   ],
   "source": [
    "get_woeid('India')"
   ]
  },
  {
   "cell_type": "markdown",
   "metadata": {},
   "source": [
    "#### Get Twitter Trends by location"
   ]
  },
  {
   "cell_type": "code",
   "execution_count": 8,
   "metadata": {},
   "outputs": [],
   "source": [
    "def get_trends_by_location(loc_id,count):\n",
    "    '''Get Trending Tweets by Location'''\n",
    "    import iso639\n",
    "    try:\n",
    "        trends = api.trends_place(loc_id)\n",
    "        df = pd.DataFrame([trending['name'],  trending['tweet_volume'], iso639.to_name(detect(trending['name']))] for trending in trends[0]['trends'])\n",
    "        df.columns = ['Trends','Volume','Language']\n",
    "        #df = df.sort_values('Volume', ascending = False)\n",
    "        return(df[:count])\n",
    "    except Exception as e:\n",
    "        print(\"An exception occurred\",e)"
   ]
  },
  {
   "cell_type": "markdown",
   "metadata": {},
   "source": [
    "#### Get Top 10 Treds from India"
   ]
  },
  {
   "cell_type": "code",
   "execution_count": 16,
   "metadata": {},
   "outputs": [
    {
     "data": {
      "text/html": [
       "<div>\n",
       "<style scoped>\n",
       "    .dataframe tbody tr th:only-of-type {\n",
       "        vertical-align: middle;\n",
       "    }\n",
       "\n",
       "    .dataframe tbody tr th {\n",
       "        vertical-align: top;\n",
       "    }\n",
       "\n",
       "    .dataframe thead th {\n",
       "        text-align: right;\n",
       "    }\n",
       "</style>\n",
       "<table border=\"1\" class=\"dataframe\">\n",
       "  <thead>\n",
       "    <tr style=\"text-align: right;\">\n",
       "      <th></th>\n",
       "      <th>Trends</th>\n",
       "      <th>Volume</th>\n",
       "      <th>Language</th>\n",
       "    </tr>\n",
       "  </thead>\n",
       "  <tbody>\n",
       "    <tr>\n",
       "      <th>0</th>\n",
       "      <td>#SoniaSpeakNow</td>\n",
       "      <td>80410.0</td>\n",
       "      <td>Polish</td>\n",
       "    </tr>\n",
       "    <tr>\n",
       "      <th>1</th>\n",
       "      <td>#WeStandWithArnabGoswami</td>\n",
       "      <td>67144.0</td>\n",
       "      <td>English</td>\n",
       "    </tr>\n",
       "    <tr>\n",
       "      <th>2</th>\n",
       "      <td>#भगवा_तो_लहराएगा</td>\n",
       "      <td>178037.0</td>\n",
       "      <td>Marathi; Marāṭhī</td>\n",
       "    </tr>\n",
       "    <tr>\n",
       "      <th>3</th>\n",
       "      <td>#14YearsForSouthIndiaIHPokiri</td>\n",
       "      <td>3562537.0</td>\n",
       "      <td>English</td>\n",
       "    </tr>\n",
       "    <tr>\n",
       "      <th>4</th>\n",
       "      <td>#न_भूलेंगे_न_माफ_करेंगे</td>\n",
       "      <td>51729.0</td>\n",
       "      <td>Hindi</td>\n",
       "    </tr>\n",
       "    <tr>\n",
       "      <th>5</th>\n",
       "      <td>मुंबई पुलिस</td>\n",
       "      <td>44236.0</td>\n",
       "      <td>Marathi; Marāṭhī</td>\n",
       "    </tr>\n",
       "    <tr>\n",
       "      <th>6</th>\n",
       "      <td>Interrogation</td>\n",
       "      <td>180563.0</td>\n",
       "      <td>Italian</td>\n",
       "    </tr>\n",
       "    <tr>\n",
       "      <th>7</th>\n",
       "      <td>Arnab for 12</td>\n",
       "      <td>NaN</td>\n",
       "      <td>Danish</td>\n",
       "    </tr>\n",
       "    <tr>\n",
       "      <th>8</th>\n",
       "      <td>TaeTae</td>\n",
       "      <td>37317.0</td>\n",
       "      <td>Swahili</td>\n",
       "    </tr>\n",
       "    <tr>\n",
       "      <th>9</th>\n",
       "      <td>A. Ready 2 Mingle</td>\n",
       "      <td>NaN</td>\n",
       "      <td>English</td>\n",
       "    </tr>\n",
       "  </tbody>\n",
       "</table>\n",
       "</div>"
      ],
      "text/plain": [
       "                          Trends     Volume          Language\n",
       "0                 #SoniaSpeakNow    80410.0            Polish\n",
       "1       #WeStandWithArnabGoswami    67144.0           English\n",
       "2               #भगवा_तो_लहराएगा   178037.0  Marathi; Marāṭhī\n",
       "3  #14YearsForSouthIndiaIHPokiri  3562537.0           English\n",
       "4        #न_भूलेंगे_न_माफ_करेंगे    51729.0             Hindi\n",
       "5                    मुंबई पुलिस    44236.0  Marathi; Marāṭhī\n",
       "6                  Interrogation   180563.0           Italian\n",
       "7                   Arnab for 12        NaN            Danish\n",
       "8                         TaeTae    37317.0           Swahili\n",
       "9              A. Ready 2 Mingle        NaN           English"
      ]
     },
     "execution_count": 16,
     "metadata": {},
     "output_type": "execute_result"
    }
   ],
   "source": [
    "df_india_trends = get_trends_by_location(23424848, 10)\n",
    "df_india_trends"
   ]
  },
  {
   "cell_type": "markdown",
   "metadata": {},
   "source": [
    "#### Get Worldwide Trends"
   ]
  },
  {
   "cell_type": "code",
   "execution_count": 17,
   "metadata": {},
   "outputs": [
    {
     "data": {
      "text/html": [
       "<div>\n",
       "<style scoped>\n",
       "    .dataframe tbody tr th:only-of-type {\n",
       "        vertical-align: middle;\n",
       "    }\n",
       "\n",
       "    .dataframe tbody tr th {\n",
       "        vertical-align: top;\n",
       "    }\n",
       "\n",
       "    .dataframe thead th {\n",
       "        text-align: right;\n",
       "    }\n",
       "</style>\n",
       "<table border=\"1\" class=\"dataframe\">\n",
       "  <thead>\n",
       "    <tr style=\"text-align: right;\">\n",
       "      <th></th>\n",
       "      <th>Trends</th>\n",
       "      <th>Volume</th>\n",
       "      <th>Language</th>\n",
       "    </tr>\n",
       "  </thead>\n",
       "  <tbody>\n",
       "    <tr>\n",
       "      <th>0</th>\n",
       "      <td>#SoniaSpeakNow</td>\n",
       "      <td>84517.0</td>\n",
       "      <td>Polish</td>\n",
       "    </tr>\n",
       "    <tr>\n",
       "      <th>1</th>\n",
       "      <td>#LGBTHaklarıİnsanHaklarıdır</td>\n",
       "      <td>32065.0</td>\n",
       "      <td>Turkish</td>\n",
       "    </tr>\n",
       "    <tr>\n",
       "      <th>2</th>\n",
       "      <td>#ASKATEEZ</td>\n",
       "      <td>51795.0</td>\n",
       "      <td>Tagalog</td>\n",
       "    </tr>\n",
       "    <tr>\n",
       "      <th>3</th>\n",
       "      <td>#فحص_</td>\n",
       "      <td>NaN</td>\n",
       "      <td>Arabic</td>\n",
       "    </tr>\n",
       "    <tr>\n",
       "      <th>4</th>\n",
       "      <td>#RespectBTSV</td>\n",
       "      <td>597579.0</td>\n",
       "      <td>Spanish; Castilian</td>\n",
       "    </tr>\n",
       "    <tr>\n",
       "      <th>5</th>\n",
       "      <td>pato</td>\n",
       "      <td>33734.0</td>\n",
       "      <td>Tagalog</td>\n",
       "    </tr>\n",
       "    <tr>\n",
       "      <th>6</th>\n",
       "      <td>Virgin Media</td>\n",
       "      <td>12656.0</td>\n",
       "      <td>Afrikaans</td>\n",
       "    </tr>\n",
       "    <tr>\n",
       "      <th>7</th>\n",
       "      <td>خليل</td>\n",
       "      <td>16473.0</td>\n",
       "      <td>Arabic</td>\n",
       "    </tr>\n",
       "    <tr>\n",
       "      <th>8</th>\n",
       "      <td>Jorge Javier</td>\n",
       "      <td>61251.0</td>\n",
       "      <td>Afrikaans</td>\n",
       "    </tr>\n",
       "    <tr>\n",
       "      <th>9</th>\n",
       "      <td>ElijahMontefalco 28thAt28</td>\n",
       "      <td>24226.0</td>\n",
       "      <td>English</td>\n",
       "    </tr>\n",
       "  </tbody>\n",
       "</table>\n",
       "</div>"
      ],
      "text/plain": [
       "                        Trends    Volume            Language\n",
       "0               #SoniaSpeakNow   84517.0              Polish\n",
       "1  #LGBTHaklarıİnsanHaklarıdır   32065.0             Turkish\n",
       "2                    #ASKATEEZ   51795.0             Tagalog\n",
       "3                        #فحص_       NaN              Arabic\n",
       "4                 #RespectBTSV  597579.0  Spanish; Castilian\n",
       "5                         pato   33734.0             Tagalog\n",
       "6                 Virgin Media   12656.0           Afrikaans\n",
       "7                         خليل   16473.0              Arabic\n",
       "8                 Jorge Javier   61251.0           Afrikaans\n",
       "9    ElijahMontefalco 28thAt28   24226.0             English"
      ]
     },
     "execution_count": 17,
     "metadata": {},
     "output_type": "execute_result"
    }
   ],
   "source": [
    "df_world_trends = get_trends_by_location(1, 10)\n",
    "df_world_trends"
   ]
  },
  {
   "cell_type": "markdown",
   "metadata": {},
   "source": [
    "#### Get Translated Tweets"
   ]
  },
  {
   "cell_type": "code",
   "execution_count": 11,
   "metadata": {},
   "outputs": [],
   "source": [
    "def get_translation(text):\n",
    "    ''' Translate Tweets in English'''\n",
    "    from googletrans import Translator  # Import Translator module from googletrans package\n",
    "    try:\n",
    "        translator = Translator() # Create object of Translator.\n",
    "        translated = translator.translate(text,dest='en')\n",
    "        return(translated.text)\n",
    "    except Exception as e:\n",
    "        print(\"Exception\", e)"
   ]
  },
  {
   "cell_type": "code",
   "execution_count": 18,
   "metadata": {},
   "outputs": [
    {
     "data": {
      "text/html": [
       "<div>\n",
       "<style scoped>\n",
       "    .dataframe tbody tr th:only-of-type {\n",
       "        vertical-align: middle;\n",
       "    }\n",
       "\n",
       "    .dataframe tbody tr th {\n",
       "        vertical-align: top;\n",
       "    }\n",
       "\n",
       "    .dataframe thead th {\n",
       "        text-align: right;\n",
       "    }\n",
       "</style>\n",
       "<table border=\"1\" class=\"dataframe\">\n",
       "  <thead>\n",
       "    <tr style=\"text-align: right;\">\n",
       "      <th></th>\n",
       "      <th>Trends</th>\n",
       "      <th>Volume</th>\n",
       "      <th>Language</th>\n",
       "      <th>Translated_Trends</th>\n",
       "    </tr>\n",
       "  </thead>\n",
       "  <tbody>\n",
       "    <tr>\n",
       "      <th>0</th>\n",
       "      <td>#SoniaSpeakNow</td>\n",
       "      <td>84517.0</td>\n",
       "      <td>Polish</td>\n",
       "      <td>#SoniaSpeakNow</td>\n",
       "    </tr>\n",
       "    <tr>\n",
       "      <th>1</th>\n",
       "      <td>#LGBTHaklarıİnsanHaklarıdır</td>\n",
       "      <td>32065.0</td>\n",
       "      <td>Turkish</td>\n",
       "      <td># Are lgbthaklarıinsanhak</td>\n",
       "    </tr>\n",
       "    <tr>\n",
       "      <th>2</th>\n",
       "      <td>#ASKATEEZ</td>\n",
       "      <td>51795.0</td>\n",
       "      <td>Tagalog</td>\n",
       "      <td>#ASKATEEZ</td>\n",
       "    </tr>\n",
       "    <tr>\n",
       "      <th>3</th>\n",
       "      <td>#فحص_</td>\n",
       "      <td>NaN</td>\n",
       "      <td>Arabic</td>\n",
       "      <td>#check up_</td>\n",
       "    </tr>\n",
       "    <tr>\n",
       "      <th>4</th>\n",
       "      <td>#RespectBTSV</td>\n",
       "      <td>597579.0</td>\n",
       "      <td>Spanish; Castilian</td>\n",
       "      <td>#RespectBTSV</td>\n",
       "    </tr>\n",
       "    <tr>\n",
       "      <th>5</th>\n",
       "      <td>pato</td>\n",
       "      <td>33734.0</td>\n",
       "      <td>Tagalog</td>\n",
       "      <td>duck</td>\n",
       "    </tr>\n",
       "    <tr>\n",
       "      <th>6</th>\n",
       "      <td>Virgin Media</td>\n",
       "      <td>12656.0</td>\n",
       "      <td>Afrikaans</td>\n",
       "      <td>Virgin Media</td>\n",
       "    </tr>\n",
       "    <tr>\n",
       "      <th>7</th>\n",
       "      <td>خليل</td>\n",
       "      <td>16473.0</td>\n",
       "      <td>Arabic</td>\n",
       "      <td>Khalil</td>\n",
       "    </tr>\n",
       "    <tr>\n",
       "      <th>8</th>\n",
       "      <td>Jorge Javier</td>\n",
       "      <td>61251.0</td>\n",
       "      <td>Afrikaans</td>\n",
       "      <td>Jorge Javier</td>\n",
       "    </tr>\n",
       "    <tr>\n",
       "      <th>9</th>\n",
       "      <td>ElijahMontefalco 28thAt28</td>\n",
       "      <td>24226.0</td>\n",
       "      <td>English</td>\n",
       "      <td>Elijah Montefalco 28th At 28</td>\n",
       "    </tr>\n",
       "  </tbody>\n",
       "</table>\n",
       "</div>"
      ],
      "text/plain": [
       "                        Trends    Volume            Language  \\\n",
       "0               #SoniaSpeakNow   84517.0              Polish   \n",
       "1  #LGBTHaklarıİnsanHaklarıdır   32065.0             Turkish   \n",
       "2                    #ASKATEEZ   51795.0             Tagalog   \n",
       "3                        #فحص_       NaN              Arabic   \n",
       "4                 #RespectBTSV  597579.0  Spanish; Castilian   \n",
       "5                         pato   33734.0             Tagalog   \n",
       "6                 Virgin Media   12656.0           Afrikaans   \n",
       "7                         خليل   16473.0              Arabic   \n",
       "8                 Jorge Javier   61251.0           Afrikaans   \n",
       "9    ElijahMontefalco 28thAt28   24226.0             English   \n",
       "\n",
       "              Translated_Trends  \n",
       "0                #SoniaSpeakNow  \n",
       "1     # Are lgbthaklarıinsanhak  \n",
       "2                     #ASKATEEZ  \n",
       "3                    #check up_  \n",
       "4                  #RespectBTSV  \n",
       "5                          duck  \n",
       "6                  Virgin Media  \n",
       "7                        Khalil  \n",
       "8                  Jorge Javier  \n",
       "9  Elijah Montefalco 28th At 28  "
      ]
     },
     "execution_count": 18,
     "metadata": {},
     "output_type": "execute_result"
    }
   ],
   "source": [
    "df_world_trends[\"Translated_Trends\"] = [get_translation(val) for val in df_world_trends.Trends]\n",
    "df_world_trends"
   ]
  },
  {
   "cell_type": "code",
   "execution_count": 14,
   "metadata": {},
   "outputs": [
    {
     "data": {
      "text/html": [
       "<div>\n",
       "<style scoped>\n",
       "    .dataframe tbody tr th:only-of-type {\n",
       "        vertical-align: middle;\n",
       "    }\n",
       "\n",
       "    .dataframe tbody tr th {\n",
       "        vertical-align: top;\n",
       "    }\n",
       "\n",
       "    .dataframe thead th {\n",
       "        text-align: right;\n",
       "    }\n",
       "</style>\n",
       "<table border=\"1\" class=\"dataframe\">\n",
       "  <thead>\n",
       "    <tr style=\"text-align: right;\">\n",
       "      <th></th>\n",
       "      <th>Trends</th>\n",
       "      <th>Volume</th>\n",
       "      <th>Language</th>\n",
       "      <th>Translated_Trends</th>\n",
       "    </tr>\n",
       "  </thead>\n",
       "  <tbody>\n",
       "    <tr>\n",
       "      <th>0</th>\n",
       "      <td>#SoniaSpeakNow</td>\n",
       "      <td>32280.0</td>\n",
       "      <td>Polish</td>\n",
       "      <td>#SoniaSpeakNow</td>\n",
       "    </tr>\n",
       "    <tr>\n",
       "      <th>1</th>\n",
       "      <td>#WeStandWithArnabGoswami</td>\n",
       "      <td>33496.0</td>\n",
       "      <td>English</td>\n",
       "      <td>#WeStandWithArnabGoswami</td>\n",
       "    </tr>\n",
       "    <tr>\n",
       "      <th>2</th>\n",
       "      <td>#भगवा_तो_लहराएगा</td>\n",
       "      <td>157719.0</td>\n",
       "      <td>Marathi; Marāṭhī</td>\n",
       "      <td># Bgwa_to_lhraaga</td>\n",
       "    </tr>\n",
       "    <tr>\n",
       "      <th>3</th>\n",
       "      <td>#14YearsForSouthIndiaIHPokiri</td>\n",
       "      <td>2982277.0</td>\n",
       "      <td>English</td>\n",
       "      <td>#14YearsForSouthIndiaIHPokiri</td>\n",
       "    </tr>\n",
       "    <tr>\n",
       "      <th>4</th>\n",
       "      <td>#Aim_Of_TrueWorship</td>\n",
       "      <td>360658.0</td>\n",
       "      <td>English</td>\n",
       "      <td>#Aim_Of_TrueWorship</td>\n",
       "    </tr>\n",
       "    <tr>\n",
       "      <th>5</th>\n",
       "      <td>Mumbai Police</td>\n",
       "      <td>91548.0</td>\n",
       "      <td>Romanian; Moldavian; Moldovan</td>\n",
       "      <td>Mumbai Police</td>\n",
       "    </tr>\n",
       "    <tr>\n",
       "      <th>6</th>\n",
       "      <td>मुंबई पुलिस</td>\n",
       "      <td>32820.0</td>\n",
       "      <td>Marathi; Marāṭhī</td>\n",
       "      <td>Mumbai police</td>\n",
       "    </tr>\n",
       "    <tr>\n",
       "      <th>7</th>\n",
       "      <td>Umar Akmal</td>\n",
       "      <td>NaN</td>\n",
       "      <td>Turkish</td>\n",
       "      <td>Umar Akmal</td>\n",
       "    </tr>\n",
       "    <tr>\n",
       "      <th>8</th>\n",
       "      <td>D. Black</td>\n",
       "      <td>NaN</td>\n",
       "      <td>German</td>\n",
       "      <td>D. Black</td>\n",
       "    </tr>\n",
       "    <tr>\n",
       "      <th>9</th>\n",
       "      <td>Red Beryl</td>\n",
       "      <td>NaN</td>\n",
       "      <td>English</td>\n",
       "      <td>Red Beryl</td>\n",
       "    </tr>\n",
       "  </tbody>\n",
       "</table>\n",
       "</div>"
      ],
      "text/plain": [
       "                          Trends     Volume                       Language  \\\n",
       "0                 #SoniaSpeakNow    32280.0                         Polish   \n",
       "1       #WeStandWithArnabGoswami    33496.0                        English   \n",
       "2               #भगवा_तो_लहराएगा   157719.0               Marathi; Marāṭhī   \n",
       "3  #14YearsForSouthIndiaIHPokiri  2982277.0                        English   \n",
       "4            #Aim_Of_TrueWorship   360658.0                        English   \n",
       "5                  Mumbai Police    91548.0  Romanian; Moldavian; Moldovan   \n",
       "6                    मुंबई पुलिस    32820.0               Marathi; Marāṭhī   \n",
       "7                     Umar Akmal        NaN                        Turkish   \n",
       "8                       D. Black        NaN                         German   \n",
       "9                      Red Beryl        NaN                        English   \n",
       "\n",
       "               Translated_Trends  \n",
       "0                 #SoniaSpeakNow  \n",
       "1       #WeStandWithArnabGoswami  \n",
       "2              # Bgwa_to_lhraaga  \n",
       "3  #14YearsForSouthIndiaIHPokiri  \n",
       "4            #Aim_Of_TrueWorship  \n",
       "5                  Mumbai Police  \n",
       "6                  Mumbai police  \n",
       "7                     Umar Akmal  \n",
       "8                       D. Black  \n",
       "9                      Red Beryl  "
      ]
     },
     "execution_count": 14,
     "metadata": {},
     "output_type": "execute_result"
    }
   ],
   "source": [
    "df_india_trends[\"Translated_Trends\"] = [get_translation(val) for val in df_india_trends.Trends]\n",
    "df_india_trends"
   ]
  },
  {
   "cell_type": "code",
   "execution_count": null,
   "metadata": {},
   "outputs": [],
   "source": []
  }
 ],
 "metadata": {
  "kernelspec": {
   "display_name": "Python 3",
   "language": "python",
   "name": "python3"
  },
  "language_info": {
   "codemirror_mode": {
    "name": "ipython",
    "version": 3
   },
   "file_extension": ".py",
   "mimetype": "text/x-python",
   "name": "python",
   "nbconvert_exporter": "python",
   "pygments_lexer": "ipython3",
   "version": "3.7.1"
  }
 },
 "nbformat": 4,
 "nbformat_minor": 2
}
