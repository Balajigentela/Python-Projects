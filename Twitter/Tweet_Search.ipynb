{
 "cells": [
  {
   "cell_type": "markdown",
   "metadata": {},
   "source": [
    "# Twitter - Search Tweets for a Keyword"
   ]
  },
  {
   "cell_type": "markdown",
   "metadata": {},
   "source": [
    "### Import Libraries"
   ]
  },
  {
   "cell_type": "code",
   "execution_count": 1,
   "metadata": {},
   "outputs": [],
   "source": [
    "# Import Libraries\n",
    "import twitter\n",
    "import tweepy as tw"
   ]
  },
  {
   "cell_type": "markdown",
   "metadata": {},
   "source": [
    "### Pass the Key and Token"
   ]
  },
  {
   "cell_type": "code",
   "execution_count": 2,
   "metadata": {},
   "outputs": [],
   "source": [
    "# Pass the access keys and tokens\n",
    "consumer_key='7**********'\n",
    "consumer_secret='w***************'\n",
    "access_token='9*************************'\n",
    "access_token_secret ='I***************************'"
   ]
  },
  {
   "cell_type": "markdown",
   "metadata": {},
   "source": [
    "### Initialize Twitter App"
   ]
  },
  {
   "cell_type": "code",
   "execution_count": 3,
   "metadata": {},
   "outputs": [],
   "source": [
    "#Connect to Twitter through the API\n",
    "auth = tw.OAuthHandler(consumer_key, consumer_secret) \n",
    "auth.set_access_token(access_token, access_token_secret) \n",
    "api = tw.API(auth) "
   ]
  },
  {
   "cell_type": "markdown",
   "metadata": {},
   "source": [
    "### Search for Tweets for a Keyword"
   ]
  },
  {
   "cell_type": "code",
   "execution_count": 4,
   "metadata": {},
   "outputs": [],
   "source": [
    "# Define the search term and the date_since date as variables\n",
    "search_words = \"#corona\""
   ]
  },
  {
   "cell_type": "code",
   "execution_count": 5,
   "metadata": {},
   "outputs": [
    {
     "data": {
      "text/plain": [
       "<tweepy.cursor.ItemIterator at 0x112a3e9e8>"
      ]
     },
     "execution_count": 5,
     "metadata": {},
     "output_type": "execute_result"
    }
   ],
   "source": [
    "tweets = tw.Cursor(api.search,\n",
    "              q=search_words,\n",
    "              lang=\"en\"\n",
    "              ).items(10)\n",
    "tweets"
   ]
  },
  {
   "cell_type": "markdown",
   "metadata": {},
   "source": [
    "### Check The Tweets"
   ]
  },
  {
   "cell_type": "code",
   "execution_count": 6,
   "metadata": {},
   "outputs": [
    {
     "data": {
      "text/plain": [
       "[\"RT @ashoswai: Modi's media spreading fake news to blame India's #Corona Crisis on Muslims! https://t.co/PLnTqGPXTI via @JantaKaReporter\",\n",
       " '@VamsiChandReddy @narendramodi @INCIndia @RahulGandhi @priyankagandhi @kcvenugopalmp @SATAVRAJEEV @IYC @nsui… https://t.co/dQGCUGhypL',\n",
       " 'RT @goldenKalam1: Perfect Thala Day ✌️✌️\\n#அஜித் ❤️\\n#ThalaAjith 😍 #PerfectCitizenThalaAJITH #VivegamOnKTV  #Vivegam #PMCaresFunds\\n#CMReliefF…',\n",
       " \"RT @postaresume: Don't worry and have faith in almighty, there will be sunshine and everything will be alright.⠀\\n.⠀\\n#worldhepatitisday #yog…\",\n",
       " '#Experts \\nPower of #Corona 😅 https://t.co/CN02Pf6xf2',\n",
       " 'A healthy body is linked to a healthy mind 💪 \\n\\n#worldhealthday #WHO #april #2020 #Omnamashivaya #thanks #doctors… https://t.co/oZkJnj1mSp',\n",
       " '#JustIn |√ #France #coronavirus death toll tops 10,000. \\n\\n#CoronaVirusUpdate \\n#CoronavirusFrance1940 \\n#Corona https://t.co/6NCkiJywv8',\n",
       " 'RT @GeraldoRivera: At worst #Hydroxychloroquine might not work for some patients vs #Coronavirus. That should not prevent patients who want…',\n",
       " \"We took a dive into our data at @spendeeapp and prepared an overview of how our users' spending behavior changed du… https://t.co/ENO1wsQJ5X\",\n",
       " \"RT @postaresume: Don't worry and have faith in almighty, there will be sunshine and everything will be alright.⠀\\n.⠀\\n#worldhepatitisday #yog…\"]"
      ]
     },
     "execution_count": 6,
     "metadata": {},
     "output_type": "execute_result"
    }
   ],
   "source": [
    "# Collect a list of tweets\n",
    "[tweet.text for tweet in tweets]"
   ]
  },
  {
   "cell_type": "code",
   "execution_count": null,
   "metadata": {},
   "outputs": [],
   "source": []
  }
 ],
 "metadata": {
  "kernelspec": {
   "display_name": "Python 3",
   "language": "python",
   "name": "python3"
  },
  "language_info": {
   "codemirror_mode": {
    "name": "ipython",
    "version": 3
   },
   "file_extension": ".py",
   "mimetype": "text/x-python",
   "name": "python",
   "nbconvert_exporter": "python",
   "pygments_lexer": "ipython3",
   "version": "3.7.1"
  }
 },
 "nbformat": 4,
 "nbformat_minor": 2
}
