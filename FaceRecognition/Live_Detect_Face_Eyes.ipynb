{
 "cells": [
  {
   "cell_type": "markdown",
   "metadata": {},
   "source": [
    "### Function to detect Face, Eyes and Smile On a Still Image"
   ]
  },
  {
   "cell_type": "code",
   "execution_count": 1,
   "metadata": {},
   "outputs": [],
   "source": [
    "def detect_face_eyes_smile(img, mod_name):\n",
    "    '''Recognize Face,Eyes and Smile in a still image'''\n",
    "    import numpy as np\n",
    "    import cv2\n",
    "\n",
    "    font = cv2.FONT_HERSHEY_SIMPLEX\n",
    "    face_counter = 0\n",
    "    eyes_counter = 0\n",
    "    smile_counter = 0\n",
    "    \n",
    "    face_cascade = cv2.CascadeClassifier('haarcascade_frontalface_default.xml')\n",
    "    eye_cascade = cv2.CascadeClassifier('haarcascade_eye.xml')\n",
    "    smile_cascade = cv2.CascadeClassifier('haarcascade_smile.xml')\n",
    "\n",
    "    img = cv2.imread(img) \n",
    "    gray = cv2.cvtColor(img, cv2.COLOR_BGR2GRAY)\n",
    "    \n",
    "    ## Find the face\n",
    "    faces = face_cascade.detectMultiScale(gray, 1.3, 5)\n",
    "        \n",
    "\n",
    "    for (x,y,w,h) in faces:\n",
    "        face_counter += 1\n",
    "        # Draw rectangle around the face\n",
    "        cv2.rectangle(img,(x,y),(x+w,y+h),(255,130,0),2)\n",
    "        cv2.putText(img,'Face',(x, y), font, 2,(255,130,0),5)\n",
    "        \n",
    "        #Detect Eyes    \n",
    "        eyes = eye_cascade.detectMultiScale(img,1.2, 18)\n",
    "        for (ex,ey,ew,eh) in eyes:\n",
    "            eyes_counter += 1\n",
    "            img=cv2.rectangle(img,(ex,ey),(ex+ew,ey+eh),(0,180,60),2)\n",
    "            img = cv2.putText(img,'Eyes',(x + ex,y + ey), font, 1, (0, 180, 60), 2)\n",
    "        \n",
    "        #Detect Smile\n",
    "        smile = smile_cascade.detectMultiScale(img,1.8, 20)\n",
    "        #Loop \n",
    "        for (sx, sy, sw, sh) in smile:\n",
    "            smile_counter += 1\n",
    "            img = cv2.rectangle(img, (sx, sy), (sx+sw, sy+sh), (255, 0, 130), 2)\n",
    "            img = cv2.putText(img,'Smile',(x + sx,y + sy), font, 1, (255, 0, 130), 2)\n",
    "\n",
    "\n",
    "    print(\"Faces Found in the given image : \",face_counter) \n",
    "    print(\"Eyes Found in the given image : \",eyes_counter)    \n",
    "    print(\"Smile Found in the given image : \",smile_counter)  \n",
    "    cv2.imwrite('outputs/'+mod_name, img) "
   ]
  },
  {
   "cell_type": "code",
   "execution_count": 2,
   "metadata": {},
   "outputs": [
    {
     "name": "stdout",
     "output_type": "stream",
     "text": [
      "Faces Found in the given image :  1\n",
      "Eyes Found in the given image :  2\n",
      "Smile Found in the given image :  3\n"
     ]
    }
   ],
   "source": [
    "detect_face_eyes_smile(\"IMG_2315.jpg\",\"Mod_IMG_2315.jpg\")"
   ]
  },
  {
   "cell_type": "code",
   "execution_count": 3,
   "metadata": {},
   "outputs": [
    {
     "name": "stdout",
     "output_type": "stream",
     "text": [
      "Faces Found in the given image :  2\n",
      "Eyes Found in the given image :  6\n",
      "Smile Found in the given image :  40\n"
     ]
    }
   ],
   "source": [
    "detect_face_eyes_smile(\"IMG_5350.jpg\",\"Mod_IMG_5350.jpg\")"
   ]
  },
  {
   "cell_type": "code",
   "execution_count": 4,
   "metadata": {},
   "outputs": [
    {
     "name": "stdout",
     "output_type": "stream",
     "text": [
      "Faces Found in the given image :  1\n",
      "Eyes Found in the given image :  1\n",
      "Smile Found in the given image :  28\n"
     ]
    }
   ],
   "source": [
    "detect_face_eyes_smile(\"IMG_4707.jpg\",\"Mod_IMG_4707.jpg\")"
   ]
  },
  {
   "cell_type": "code",
   "execution_count": 5,
   "metadata": {},
   "outputs": [
    {
     "name": "stdout",
     "output_type": "stream",
     "text": [
      "Faces Found in the given image :  0\n",
      "Eyes Found in the given image :  0\n",
      "Smile Found in the given image :  0\n"
     ]
    }
   ],
   "source": [
    "detect_face_eyes_smile(\"IMG_5798.jpg\",\"Mod_IMG_5798.jpg\")"
   ]
  },
  {
   "cell_type": "markdown",
   "metadata": {},
   "source": [
    "### Function to Detect Face, Eyes and Smile on a Live Image"
   ]
  },
  {
   "cell_type": "code",
   "execution_count": 6,
   "metadata": {},
   "outputs": [],
   "source": [
    "def Live_Capture():\n",
    "    '''Detect Face, Eyes and a Smile on Live Images'''\n",
    "    # Import Libraries\n",
    "    import numpy as np\n",
    "    import cv2\n",
    "\n",
    "\n",
    "    face_cascade = cv2.CascadeClassifier('haarcascade_frontalface_default.xml')\n",
    "    #eye_cascade = cv2.CascadeClassifier('haarcascade_eye.xml')\n",
    "    eye_cascade = cv2.CascadeClassifier('haarcascade_eye_tree_eyeglasses.xml')\n",
    "    smile_cascade = cv2.CascadeClassifier('haarcascade_smile.xml')\n",
    "\n",
    "    cap = cv2.VideoCapture(0)\n",
    "    font = cv2.FONT_HERSHEY_SIMPLEX\n",
    "\n",
    "    while 1:\n",
    "        ret, img = cap.read()\n",
    "        # Convert to GrayScale\n",
    "        gray = cv2.cvtColor(img, cv2.COLOR_BGR2GRAY)\n",
    "        ## Find the face\n",
    "        faces = face_cascade.detectMultiScale(gray, 1.3, 5)\n",
    "\n",
    "        for (x,y,w,h) in faces:\n",
    "            cv2.rectangle(img,(x,y),(x+w,y+h),(255,0,0),2)\n",
    "            roi_gray = gray[y:y+h, x:x+w]\n",
    "            roi_color = img[y:y+h, x:x+w]\n",
    "            cv2.putText(img,'Face',(x, y), font, 2,(255,0,0),2)\n",
    "            # Detect Eyes\n",
    "            eyes = eye_cascade.detectMultiScale(roi_gray)\n",
    "            for (ex,ey,ew,eh) in eyes:\n",
    "                cv2.rectangle(roi_color,(ex,ey),(ex+ew,ey+eh),(0,255,0),2)\n",
    "                cv2.putText(img,'Eyes',(x + ex,y + ey), font, 1, (0,255,0), 2)\n",
    "            #Detect Smiles\n",
    "            smiles  = smile_cascade.detectMultiScale(roi_color, scaleFactor = 1.8, minNeighbors = 20)\n",
    "            for (sx, sy, sw, sh) in smiles:\n",
    "                cv2.rectangle(roi_color, (sx, sy), ((sx + sw), (sy + sh)), (0, 0,255),2)\n",
    "                cv2.putText(img,'Smile',(x + sx,y + sy), font, 1, (0,0,255), 2)\n",
    "\n",
    "        cv2.imshow('Live Face and Eyes Detection',img)\n",
    "        k = cv2.waitKey(30) & 0xff\n",
    "        if k == 27:\n",
    "            break\n",
    "\n",
    "    cap.release()\n",
    "    cv2.destroyAllWindows()"
   ]
  },
  {
   "cell_type": "code",
   "execution_count": 7,
   "metadata": {},
   "outputs": [
    {
     "ename": "KeyboardInterrupt",
     "evalue": "",
     "output_type": "error",
     "traceback": [
      "\u001b[0;31m---------------------------------------------------------------------------\u001b[0m",
      "\u001b[0;31mKeyboardInterrupt\u001b[0m                         Traceback (most recent call last)",
      "\u001b[0;32m<ipython-input-7-a9213380bc9c>\u001b[0m in \u001b[0;36m<module>\u001b[0;34m\u001b[0m\n\u001b[0;32m----> 1\u001b[0;31m \u001b[0mLive_Capture\u001b[0m\u001b[0;34m(\u001b[0m\u001b[0;34m)\u001b[0m\u001b[0;34m\u001b[0m\u001b[0;34m\u001b[0m\u001b[0m\n\u001b[0m",
      "\u001b[0;32m<ipython-input-6-2fada48b78df>\u001b[0m in \u001b[0;36mLive_Capture\u001b[0;34m()\u001b[0m\n\u001b[1;32m     27\u001b[0m             \u001b[0mcv2\u001b[0m\u001b[0;34m.\u001b[0m\u001b[0mputText\u001b[0m\u001b[0;34m(\u001b[0m\u001b[0mimg\u001b[0m\u001b[0;34m,\u001b[0m\u001b[0;34m'Face'\u001b[0m\u001b[0;34m,\u001b[0m\u001b[0;34m(\u001b[0m\u001b[0mx\u001b[0m\u001b[0;34m,\u001b[0m \u001b[0my\u001b[0m\u001b[0;34m)\u001b[0m\u001b[0;34m,\u001b[0m \u001b[0mfont\u001b[0m\u001b[0;34m,\u001b[0m \u001b[0;36m2\u001b[0m\u001b[0;34m,\u001b[0m\u001b[0;34m(\u001b[0m\u001b[0;36m255\u001b[0m\u001b[0;34m,\u001b[0m\u001b[0;36m0\u001b[0m\u001b[0;34m,\u001b[0m\u001b[0;36m0\u001b[0m\u001b[0;34m)\u001b[0m\u001b[0;34m,\u001b[0m\u001b[0;36m2\u001b[0m\u001b[0;34m)\u001b[0m\u001b[0;34m\u001b[0m\u001b[0;34m\u001b[0m\u001b[0m\n\u001b[1;32m     28\u001b[0m             \u001b[0;31m# Detect Eyes\u001b[0m\u001b[0;34m\u001b[0m\u001b[0;34m\u001b[0m\u001b[0;34m\u001b[0m\u001b[0m\n\u001b[0;32m---> 29\u001b[0;31m             \u001b[0meyes\u001b[0m \u001b[0;34m=\u001b[0m \u001b[0meye_cascade\u001b[0m\u001b[0;34m.\u001b[0m\u001b[0mdetectMultiScale\u001b[0m\u001b[0;34m(\u001b[0m\u001b[0mroi_gray\u001b[0m\u001b[0;34m)\u001b[0m\u001b[0;34m\u001b[0m\u001b[0;34m\u001b[0m\u001b[0m\n\u001b[0m\u001b[1;32m     30\u001b[0m             \u001b[0;32mfor\u001b[0m \u001b[0;34m(\u001b[0m\u001b[0mex\u001b[0m\u001b[0;34m,\u001b[0m\u001b[0mey\u001b[0m\u001b[0;34m,\u001b[0m\u001b[0mew\u001b[0m\u001b[0;34m,\u001b[0m\u001b[0meh\u001b[0m\u001b[0;34m)\u001b[0m \u001b[0;32min\u001b[0m \u001b[0meyes\u001b[0m\u001b[0;34m:\u001b[0m\u001b[0;34m\u001b[0m\u001b[0;34m\u001b[0m\u001b[0m\n\u001b[1;32m     31\u001b[0m                 \u001b[0mcv2\u001b[0m\u001b[0;34m.\u001b[0m\u001b[0mrectangle\u001b[0m\u001b[0;34m(\u001b[0m\u001b[0mroi_color\u001b[0m\u001b[0;34m,\u001b[0m\u001b[0;34m(\u001b[0m\u001b[0mex\u001b[0m\u001b[0;34m,\u001b[0m\u001b[0mey\u001b[0m\u001b[0;34m)\u001b[0m\u001b[0;34m,\u001b[0m\u001b[0;34m(\u001b[0m\u001b[0mex\u001b[0m\u001b[0;34m+\u001b[0m\u001b[0mew\u001b[0m\u001b[0;34m,\u001b[0m\u001b[0mey\u001b[0m\u001b[0;34m+\u001b[0m\u001b[0meh\u001b[0m\u001b[0;34m)\u001b[0m\u001b[0;34m,\u001b[0m\u001b[0;34m(\u001b[0m\u001b[0;36m0\u001b[0m\u001b[0;34m,\u001b[0m\u001b[0;36m255\u001b[0m\u001b[0;34m,\u001b[0m\u001b[0;36m0\u001b[0m\u001b[0;34m)\u001b[0m\u001b[0;34m,\u001b[0m\u001b[0;36m2\u001b[0m\u001b[0;34m)\u001b[0m\u001b[0;34m\u001b[0m\u001b[0;34m\u001b[0m\u001b[0m\n",
      "\u001b[0;31mKeyboardInterrupt\u001b[0m: "
     ]
    }
   ],
   "source": [
    "Live_Capture()"
   ]
  },
  {
   "cell_type": "code",
   "execution_count": null,
   "metadata": {},
   "outputs": [],
   "source": []
  }
 ],
 "metadata": {
  "kernelspec": {
   "display_name": "Python 3",
   "language": "python",
   "name": "python3"
  },
  "language_info": {
   "codemirror_mode": {
    "name": "ipython",
    "version": 3
   },
   "file_extension": ".py",
   "mimetype": "text/x-python",
   "name": "python",
   "nbconvert_exporter": "python",
   "pygments_lexer": "ipython3",
   "version": "3.7.1"
  }
 },
 "nbformat": 4,
 "nbformat_minor": 2
}
